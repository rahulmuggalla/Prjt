{
  "cells": [
    {
      "cell_type": "code",
      "execution_count": 1,
      "metadata": {
        "id": "exQXk-M71ejw"
      },
      "outputs": [],
      "source": [
        "import requests\n",
        "from bs4 import BeautifulSoup\n",
        "from IPython.display import clear_output\n",
        "import time\n",
        "import pandas as pd\n",
        "import re"
      ]
    },
    {
      "cell_type": "code",
      "execution_count": 2,
      "metadata": {
        "colab": {
          "base_uri": "https://localhost:8080/"
        },
        "id": "v2tsWa6E2RUL",
        "outputId": "b0c42982-02af-48c9-c7c0-efeb2e0fd99a"
      },
      "outputs": [
        {
          "data": {
            "text/plain": [
              "<Response [200]>"
            ]
          },
          "execution_count": 2,
          "metadata": {},
          "output_type": "execute_result"
        }
      ],
      "source": [
        "#checking url status\n",
        "url = 'https://www.makaan.com/vijayawada-residential-property/buy-property-in-vijayawada-city?propertyType=apartment,builder-floor,villa,residential-plot,independent-house,studio-apartment'\n",
        "data = requests.get(url)\n",
        "data"
      ]
    },
    {
      "cell_type": "code",
      "execution_count": 3,
      "metadata": {
        "id": "DLfPCJdV2Xuw"
      },
      "outputs": [],
      "source": [
        "#getting content from html\n",
        "soup = BeautifulSoup(data.content,'html')"
      ]
    },
    {
      "cell_type": "code",
      "execution_count": 4,
      "metadata": {
        "colab": {
          "base_uri": "https://localhost:8080/",
          "height": 35
        },
        "id": "NQwKYXIA4Cz_",
        "outputId": "23ae94ad-3958-4716-e025-79ae169a9372"
      },
      "outputs": [
        {
          "data": {
            "text/plain": [
              "'3 '"
            ]
          },
          "execution_count": 4,
          "metadata": {},
          "output_type": "execute_result"
        }
      ],
      "source": [
        "soup.find('a',attrs={'class':'typelink'}).span.text"
      ]
    },
    {
      "cell_type": "code",
      "execution_count": 5,
      "metadata": {
        "colab": {
          "base_uri": "https://localhost:8080/"
        },
        "id": "PNFi4VVa5QY9",
        "outputId": "9e09ea1b-086b-4d8d-e0ec-b064b3d9ca1f"
      },
      "outputs": [
        {
          "data": {
            "text/plain": [
              "['3',\n",
              " '2',\n",
              " '4',\n",
              " '5',\n",
              " '8',\n",
              " '5',\n",
              " '3',\n",
              " '0',\n",
              " '0',\n",
              " '0',\n",
              " '2',\n",
              " '0',\n",
              " '0',\n",
              " '2',\n",
              " '0',\n",
              " '0',\n",
              " '0',\n",
              " '0',\n",
              " '0',\n",
              " '0']"
            ]
          },
          "execution_count": 5,
          "metadata": {},
          "output_type": "execute_result"
        }
      ],
      "source": [
        "#getting product name\n",
        "a = soup.find_all('a',attrs={'class':'typelink'})\n",
        "Bedroom = []\n",
        "for i in a:\n",
        "  i = i.span.text\n",
        "  i = i.replace('Residential Plot', '0').replace(' ', '')\n",
        "  Bedroom.append(i)\n",
        "Bedroom"
      ]
    },
    {
      "cell_type": "code",
      "execution_count": 6,
      "metadata": {
        "colab": {
          "base_uri": "https://localhost:8080/",
          "height": 35
        },
        "id": "d2moH6Q-4WDE",
        "outputId": "8baca707-2734-4bc7-a3f1-2d7a2f3e24b6"
      },
      "outputs": [
        {
          "data": {
            "text/plain": [
              "'Kanuru'"
            ]
          },
          "execution_count": 6,
          "metadata": {},
          "output_type": "execute_result"
        }
      ],
      "source": [
        "soup.find('span',attrs={'itemprop':'addressLocality'}).text"
      ]
    },
    {
      "cell_type": "code",
      "execution_count": 7,
      "metadata": {
        "colab": {
          "base_uri": "https://localhost:8080/"
        },
        "id": "XAJ0vl7D2b3T",
        "outputId": "d5e90f0a-399d-4f6b-dc7d-de05759fddd4"
      },
      "outputs": [
        {
          "data": {
            "text/plain": [
              "['Kanuru',\n",
              " 'Gollapudi',\n",
              " 'Kanuru',\n",
              " 'PNT Colony',\n",
              " 'Currency Nagar',\n",
              " 'Ramalingeswara Nagar',\n",
              " 'Gannavaram',\n",
              " 'Vuyyuru',\n",
              " 'Penamaluru',\n",
              " 'Ramavarapadu',\n",
              " 'Payakapuram',\n",
              " 'Payakapuram',\n",
              " 'Ramavarapadu',\n",
              " 'Satyaranayana Puram',\n",
              " 'Kankipadu',\n",
              " 'Kankipadu',\n",
              " 'Kankipadu',\n",
              " 'Gollapudi',\n",
              " 'Ibrahimpatnam',\n",
              " 'Gannavaram']"
            ]
          },
          "execution_count": 7,
          "metadata": {},
          "output_type": "execute_result"
        }
      ],
      "source": [
        "#getting product name\n",
        "b = soup.find_all('span',attrs={'itemprop':'addressLocality'})\n",
        "Location = [i.text for i in b]\n",
        "Location"
      ]
    },
    {
      "cell_type": "code",
      "execution_count": 8,
      "metadata": {
        "colab": {
          "base_uri": "https://localhost:8080/",
          "height": 35
        },
        "id": "Ah-yDNyt7L_E",
        "outputId": "13c8c0fe-0eb0-4584-d06b-ff872de76e3b"
      },
      "outputs": [
        {
          "data": {
            "text/plain": [
              "' 1.2 Cr'"
            ]
          },
          "execution_count": 8,
          "metadata": {},
          "output_type": "execute_result"
        }
      ],
      "source": [
        "soup.find('div',attrs={'data-type':'price-link'}).text"
      ]
    },
    {
      "cell_type": "code",
      "execution_count": 9,
      "metadata": {
        "colab": {
          "base_uri": "https://localhost:8080/"
        },
        "id": "rqAwNQloHIdW",
        "outputId": "5d0eb224-a88f-4af0-c8bb-892266d7d799"
      },
      "outputs": [
        {
          "data": {
            "text/plain": [
              "[120.0,\n",
              " 43.0,\n",
              " 215.0,\n",
              " 150.0,\n",
              " 350.0,\n",
              " 110.00000000000001,\n",
              " 75.0,\n",
              " 22.0,\n",
              " 42.0,\n",
              " 22.5,\n",
              " 130.0,\n",
              " 67.52,\n",
              " 60.0,\n",
              " 110.00000000000001,\n",
              " 27.45,\n",
              " 47.58,\n",
              " 30.01,\n",
              " 42.0,\n",
              " 40.0,\n",
              " 12.63]"
            ]
          },
          "execution_count": 9,
          "metadata": {},
          "output_type": "execute_result"
        }
      ],
      "source": [
        "c = soup.find_all('div', attrs={'data-type': 'price-link'})\n",
        "\n",
        "Price = []\n",
        "for i in c:\n",
        "    i = i.text.strip()  # Strip leading/trailing whitespaces\n",
        "    if 'Cr' in i:\n",
        "        i = i.replace(' Cr', '')  # Remove 'Cr' from the string\n",
        "        i = float(i) * 100  # Convert value from crores to lakhs\n",
        "    else:\n",
        "        i = i.replace(' L', '')  # Remove 'L' from the string\n",
        "        i = float(i)\n",
        "    Price.append(i)\n",
        "Price"
      ]
    },
    {
      "cell_type": "code",
      "execution_count": 10,
      "metadata": {
        "colab": {
          "base_uri": "https://localhost:8080/",
          "height": 35
        },
        "id": "vFdfnHcR7eQu",
        "outputId": "eb04e9de-174d-4fc9-931e-a03f74dd8e62"
      },
      "outputs": [
        {
          "data": {
            "text/plain": [
              "'2287 '"
            ]
          },
          "execution_count": 10,
          "metadata": {},
          "output_type": "execute_result"
        }
      ],
      "source": [
        "soup.find('td',attrs={'class':'size'}).text"
      ]
    },
    {
      "cell_type": "code",
      "execution_count": 11,
      "metadata": {
        "colab": {
          "base_uri": "https://localhost:8080/"
        },
        "id": "zgyS3ixr63Em",
        "outputId": "1041a437-a36d-4523-987f-dfc6a59aac2d"
      },
      "outputs": [
        {
          "data": {
            "text/plain": [
              "['2287',\n",
              " '1040',\n",
              " '2715',\n",
              " '3000',\n",
              " '6500',\n",
              " '2550',\n",
              " '2158',\n",
              " '16200',\n",
              " '200',\n",
              " '167',\n",
              " '2500',\n",
              " '1899',\n",
              " '1800',\n",
              " '770',\n",
              " '1647',\n",
              " '2196',\n",
              " '1863',\n",
              " '1800',\n",
              " '1800',\n",
              " '1200']"
            ]
          },
          "execution_count": 11,
          "metadata": {},
          "output_type": "execute_result"
        }
      ],
      "source": [
        "#getting product name\n",
        "c = soup.find_all('td',attrs={'class':'size'})\n",
        "\n",
        "Size = []\n",
        "for i in c:\n",
        "  i = i.text\n",
        "  i = i.replace(' ', '')\n",
        "  Size.append(i)\n",
        "Size"
      ]
    },
    {
      "cell_type": "code",
      "execution_count": 12,
      "metadata": {
        "colab": {
          "base_uri": "https://localhost:8080/",
          "height": 35
        },
        "id": "ajEBi0Ju8CRu",
        "outputId": "b8871e76-d2d5-4c96-bdf8-bb94fde03f1e"
      },
      "outputs": [
        {
          "data": {
            "text/plain": [
              "'Ready to move'"
            ]
          },
          "execution_count": 12,
          "metadata": {},
          "output_type": "execute_result"
        }
      ],
      "source": [
        "soup.find('td',attrs={'class':'val'}).text"
      ]
    },
    {
      "cell_type": "code",
      "execution_count": 13,
      "metadata": {
        "colab": {
          "base_uri": "https://localhost:8080/"
        },
        "id": "h-XwU2DQ7pdt",
        "outputId": "c977438a-06d0-48a9-c257-3afac7b53866"
      },
      "outputs": [
        {
          "data": {
            "text/plain": [
              "['Ready to move',\n",
              " 'Ready to move',\n",
              " 'Ready to move',\n",
              " 'Under Construction',\n",
              " 'Ready to move',\n",
              " 'Ready to move',\n",
              " 'Under Construction',\n",
              " 'Resale',\n",
              " 'Resale',\n",
              " 'Resale',\n",
              " 'Under Construction',\n",
              " 'New',\n",
              " 'New',\n",
              " 'Ready to move',\n",
              " 'New',\n",
              " 'New',\n",
              " 'New',\n",
              " 'New',\n",
              " 'New',\n",
              " 'New']"
            ]
          },
          "execution_count": 13,
          "metadata": {},
          "output_type": "execute_result"
        }
      ],
      "source": [
        "#getting product name\n",
        "c = soup.find_all('td',attrs={'class':'val'})\n",
        "\n",
        "status = []\n",
        "for i in c:\n",
        "  i = i.text\n",
        "  status.append(i)\n",
        "status"
      ]
    },
    {
      "cell_type": "code",
      "execution_count": 14,
      "metadata": {
        "colab": {
          "base_uri": "https://localhost:8080/",
          "height": 35
        },
        "id": "bY0WP3fG8BUA",
        "outputId": "07b7bf46-704a-43dd-8b8f-c3fdedfff09c"
      },
      "outputs": [
        {
          "data": {
            "text/plain": [
              "'3 BathroomsResale East facing'"
            ]
          },
          "execution_count": 14,
          "metadata": {},
          "output_type": "execute_result"
        }
      ],
      "source": [
        "soup.find('ul',attrs={'class':'listing-details'}).text"
      ]
    },
    {
      "cell_type": "code",
      "execution_count": 15,
      "metadata": {
        "colab": {
          "base_uri": "https://localhost:8080/"
        },
        "id": "dhcgxbtM8SBx",
        "outputId": "4577872d-458e-42ca-cde4-0dc7bea88085"
      },
      "outputs": [
        {
          "data": {
            "text/plain": [
              "['3 BathroomsResale East facing',\n",
              " '2 BathroomsResale ',\n",
              " '0 - 1 year old4 BathroomsResale ',\n",
              " '5 BathroomsResale ',\n",
              " '8 - 9 years old7 BathroomsResale ',\n",
              " '4 - 5 years old5 BathroomsResale ',\n",
              " '3 BathroomsResale ',\n",
              " '8 - 9 years old',\n",
              " '8 - 9 years old1 open sides',\n",
              " '4 - 5 years old1 open sides',\n",
              " '2 BathroomsNew East facing',\n",
              " '6 - 7 years old2 open sidesEast facing',\n",
              " '4 - 5 years old5 open sidesEast facing',\n",
              " '6 - 7 years old1 BathroomsNew ',\n",
              " '1 open sidesEast facing',\n",
              " '1 open sidesEast facing',\n",
              " '2 open sidesNorthEast facing',\n",
              " '5 open sidesNorthEast facing',\n",
              " '8 - 9 years old1 open sidesEast facing',\n",
              " '2 open sidesEast facing']"
            ]
          },
          "execution_count": 15,
          "metadata": {},
          "output_type": "execute_result"
        }
      ],
      "source": [
        "#getting product name\n",
        "c = soup.find_all('ul',attrs={'class':'listing-details'})\n",
        "\n",
        "details = []\n",
        "for i in c:\n",
        "  i = i.text\n",
        "  details.append(i)\n",
        "details"
      ]
    },
    {
      "cell_type": "code",
      "execution_count": 16,
      "metadata": {
        "id": "eMvv-NryCjG2"
      },
      "outputs": [],
      "source": [
        "c = soup.find_all('ul', attrs={'class': 'listing-details'})\n",
        "\n",
        "Bathroom = []\n",
        "Facing = []\n",
        "\n",
        "for i in c:\n",
        "    i = i.text\n",
        "    bathroom_count = re.findall(r'(\\d+) Bathrooms', i)\n",
        "    if bathroom_count:\n",
        "        Bathroom.append(int(bathroom_count[0]))\n",
        "    else:\n",
        "        Bathroom.append(0)\n",
        "\n",
        "    facing_direction = re.findall(r'(North|South|East|West|NorthEast|NorthWest|SouthEast|SouthWest) facing', i)\n",
        "    if facing_direction:\n",
        "        Facing.append(facing_direction[0])\n",
        "    else:\n",
        "        Facing.append(0)"
      ]
    },
    {
      "cell_type": "code",
      "execution_count": 17,
      "metadata": {
        "colab": {
          "base_uri": "https://localhost:8080/"
        },
        "id": "YQ9dd-29DP2d",
        "outputId": "3dff2e95-1d87-4b97-d81c-f61aa1a12990"
      },
      "outputs": [
        {
          "data": {
            "text/plain": [
              "[3, 2, 4, 5, 7, 5, 3, 0, 0, 0, 2, 0, 0, 1, 0, 0, 0, 0, 0, 0]"
            ]
          },
          "execution_count": 17,
          "metadata": {},
          "output_type": "execute_result"
        }
      ],
      "source": [
        "Bathroom"
      ]
    },
    {
      "cell_type": "code",
      "execution_count": 18,
      "metadata": {
        "colab": {
          "base_uri": "https://localhost:8080/"
        },
        "id": "lXD9m6MNDOxN",
        "outputId": "230de6d6-dbd0-4ede-adef-5a31b6bbbc43"
      },
      "outputs": [
        {
          "data": {
            "text/plain": [
              "['East',\n",
              " 0,\n",
              " 0,\n",
              " 0,\n",
              " 0,\n",
              " 0,\n",
              " 0,\n",
              " 0,\n",
              " 0,\n",
              " 0,\n",
              " 'East',\n",
              " 'East',\n",
              " 'East',\n",
              " 0,\n",
              " 'East',\n",
              " 'East',\n",
              " 'NorthEast',\n",
              " 'NorthEast',\n",
              " 'East',\n",
              " 'East']"
            ]
          },
          "execution_count": 18,
          "metadata": {},
          "output_type": "execute_result"
        }
      ],
      "source": [
        "Facing"
      ]
    },
    {
      "cell_type": "code",
      "execution_count": 19,
      "metadata": {
        "colab": {
          "base_uri": "https://localhost:8080/",
          "height": 35
        },
        "id": "FrGnO_P4DSAy",
        "outputId": "ae885143-2d09-49f6-e706-89527b69198e"
      },
      "outputs": [
        {
          "data": {
            "text/plain": [
              "'3 BHK Independent Floor'"
            ]
          },
          "execution_count": 19,
          "metadata": {},
          "output_type": "execute_result"
        }
      ],
      "source": [
        "soup.find('div',attrs={'class':'title-line'}).text"
      ]
    },
    {
      "cell_type": "code",
      "execution_count": 20,
      "metadata": {
        "colab": {
          "base_uri": "https://localhost:8080/"
        },
        "id": "OSXcWjPLD2VV",
        "outputId": "9326d7bc-121c-4ef0-a420-33682caf8147"
      },
      "outputs": [
        {
          "data": {
            "text/plain": [
              "['3 BHK Independent Floor',\n",
              " '2 BHK Apartment',\n",
              " '4 BHK Apartment in Invicon Navah',\n",
              " '5 BHK Independent House',\n",
              " '8 BHK Independent House',\n",
              " '5 BHK Independent House',\n",
              " '3 BHK Apartment',\n",
              " 'Residential Plot',\n",
              " 'Residential Plot',\n",
              " 'Residential Plot',\n",
              " '2 BHK Villa',\n",
              " 'Residential Plot',\n",
              " 'Residential Plot',\n",
              " '2 BHK Independent House',\n",
              " 'Residential Plot',\n",
              " 'Residential Plot',\n",
              " 'Residential Plot',\n",
              " 'Residential Plot',\n",
              " 'Residential Plot',\n",
              " 'Residential Plot']"
            ]
          },
          "execution_count": 20,
          "metadata": {},
          "output_type": "execute_result"
        }
      ],
      "source": [
        "#getting product name\n",
        "d = soup.find_all('div',attrs={'class':'title-line'})\n",
        "\n",
        "info = []\n",
        "for i in d:\n",
        "  i = i.text\n",
        "  info.append(i)\n",
        "info"
      ]
    },
    {
      "cell_type": "code",
      "execution_count": 21,
      "metadata": {
        "colab": {
          "base_uri": "https://localhost:8080/"
        },
        "id": "dUlFdAmWIgjM",
        "outputId": "ec0c4c79-25f1-497a-e2c4-080a0d416ed7"
      },
      "outputs": [
        {
          "data": {
            "text/plain": [
              "['Apartment',\n",
              " 'Apartment',\n",
              " 'Independent House',\n",
              " 'Independent House',\n",
              " 'Independent House',\n",
              " 'Apartment',\n",
              " 'Residential Plot',\n",
              " 'Residential Plot',\n",
              " 'Residential Plot',\n",
              " 'Villa',\n",
              " 'Residential Plot',\n",
              " 'Residential Plot',\n",
              " 'Independent House',\n",
              " 'Residential Plot',\n",
              " 'Residential Plot',\n",
              " 'Residential Plot',\n",
              " 'Residential Plot',\n",
              " 'Residential Plot',\n",
              " 'Residential Plot']"
            ]
          },
          "execution_count": 21,
          "metadata": {},
          "output_type": "execute_result"
        }
      ],
      "source": [
        "d = soup.find_all('div', attrs={'class': 'title-line'})\n",
        "\n",
        "property_types = ['Apartment', 'Builder Floor', 'Villa', 'Residential Plot', 'Independent House', 'Studio Apartment']\n",
        "Type = []\n",
        "\n",
        "for i in d:\n",
        "    i = i.text\n",
        "    for p_type in property_types:\n",
        "        if p_type in i:\n",
        "            Type.append(p_type)\n",
        "\n",
        "Type"
      ]
    },
    {
      "cell_type": "code",
      "execution_count": 22,
      "metadata": {
        "colab": {
          "base_uri": "https://localhost:8080/"
        },
        "id": "RlbZSwrRGcKN",
        "outputId": "8fa1926d-9e7c-4eeb-f086-9224a2df1104"
      },
      "outputs": [
        {
          "name": "stdout",
          "output_type": "stream",
          "text": [
            "Scraping info from page 62 \n"
          ]
        }
      ],
      "source": [
        "Bedroom = []\n",
        "Location = []\n",
        "Price = []\n",
        "Size = []\n",
        "Status = []\n",
        "Bathroom = []\n",
        "Facing = []\n",
        "Type = []\n",
        "property_types = ['Apartment', 'Builder Floor', 'Villa', 'Residential Plot', 'Independent House', 'Studio Apartment']\n",
        "\n",
        "for i in range(1,63):\n",
        "  url = url+str(i)\n",
        "\n",
        "  print(f'Scraping info from page {i} ')\n",
        "  clear_output(wait=True)\n",
        "\n",
        "  #we are pausing for 3 sec\n",
        "  time.sleep(3)\n",
        "  response = requests.get(url)\n",
        "  soup = BeautifulSoup(response.text,'html')\n",
        "\n",
        "  a = soup.find_all('a',attrs={'class':'typelink'})\n",
        "  for i in a:\n",
        "    i = i.span.text\n",
        "    i = i.replace('Residential Plot', '0').replace(' ', '')\n",
        "    Bedroom.append(i)\n",
        "\n",
        "  b = soup.find_all('span',attrs={'itemprop':'addressLocality'})\n",
        "  for i in b:\n",
        "    Location.append(i.text)\n",
        "\n",
        "  c = soup.find_all('div', attrs={'data-type': 'price-link'})\n",
        "  for i in c:\n",
        "      i = i.text.strip()  # Strip leading/trailing whitespaces\n",
        "      if 'Cr' in i:\n",
        "          i = i.replace(' Cr', '')  # Remove 'Cr' from the string\n",
        "          i = float(i) * 100  # Convert value from crores to lakhs\n",
        "      else:\n",
        "          i = i.replace(' L', '')  # Remove 'L' from the string\n",
        "          i = float(i)\n",
        "      Price.append(i)\n",
        "\n",
        "  d = soup.find_all('td',attrs={'class':'size'})\n",
        "  for i in d:\n",
        "    i = i.text\n",
        "    i = i.replace(' ', '')\n",
        "    Size.append(i)\n",
        "\n",
        "  e = soup.find_all('td',attrs={'class':'val'})\n",
        "  for i in e:\n",
        "    i = i.text\n",
        "    status.append(i)\n",
        "\n",
        "  f = soup.find_all('ul', attrs={'class': 'listing-details'})\n",
        "  for i in f:\n",
        "      i = i.text\n",
        "      bathroom_count = re.findall(r'(\\d+) Bathrooms', i)\n",
        "      if bathroom_count:\n",
        "          Bathroom.append(int(bathroom_count[0]))\n",
        "      else:\n",
        "          Bathroom.append('0')\n",
        "\n",
        "      facing_direction = re.findall(r'(North|South|East|West|NorthEast|NorthWest|SouthEast|SouthWest) facing', i)\n",
        "      if facing_direction:\n",
        "          Facing.append(facing_direction[0])\n",
        "      else:\n",
        "          Facing.append('0')\n",
        "\n",
        "  g = soup.find_all('div', attrs={'class': 'title-line'})\n",
        "  for i in g:\n",
        "      i = i.text\n",
        "      for p_type in property_types:\n",
        "          if p_type in i:\n",
        "              Type.append(p_type)"
      ]
    },
    {
      "cell_type": "code",
      "execution_count": 23,
      "metadata": {
        "colab": {
          "base_uri": "https://localhost:8080/"
        },
        "id": "fUwtM49MJgM-",
        "outputId": "70dda7e0-58e9-4142-8c98-1929be870d94"
      },
      "outputs": [
        {
          "name": "stdout",
          "output_type": "stream",
          "text": [
            "1240\n",
            "1240\n",
            "1240\n",
            "1240\n",
            "1260\n",
            "1240\n",
            "1240\n",
            "1178\n"
          ]
        }
      ],
      "source": [
        "print(len(Bedroom))\n",
        "print(len(Location))\n",
        "print(len(Price))\n",
        "print(len(Size))\n",
        "print(len(status))\n",
        "print(len(Bathroom))\n",
        "print(len(Facing))\n",
        "print(len(Type))"
      ]
    },
    {
      "cell_type": "code",
      "execution_count": 24,
      "metadata": {
        "colab": {
          "base_uri": "https://localhost:8080/",
          "height": 423
        },
        "id": "4KMaymYWJwNa",
        "outputId": "5c4195c9-b71f-4945-f044-c8d08bb399f4"
      },
      "outputs": [
        {
          "data": {
            "text/html": [
              "<div>\n",
              "<style scoped>\n",
              "    .dataframe tbody tr th:only-of-type {\n",
              "        vertical-align: middle;\n",
              "    }\n",
              "\n",
              "    .dataframe tbody tr th {\n",
              "        vertical-align: top;\n",
              "    }\n",
              "\n",
              "    .dataframe thead th {\n",
              "        text-align: right;\n",
              "    }\n",
              "</style>\n",
              "<table border=\"1\" class=\"dataframe\">\n",
              "  <thead>\n",
              "    <tr style=\"text-align: right;\">\n",
              "      <th></th>\n",
              "      <th>Bedroom</th>\n",
              "      <th>Bathroom</th>\n",
              "      <th>Location</th>\n",
              "      <th>Size</th>\n",
              "      <th>status</th>\n",
              "      <th>Facing</th>\n",
              "      <th>Type</th>\n",
              "      <th>Price</th>\n",
              "    </tr>\n",
              "  </thead>\n",
              "  <tbody>\n",
              "    <tr>\n",
              "      <th>0</th>\n",
              "      <td>2</td>\n",
              "      <td>2</td>\n",
              "      <td>Gollapudi</td>\n",
              "      <td>1040</td>\n",
              "      <td>Ready to move</td>\n",
              "      <td>0</td>\n",
              "      <td>Apartment</td>\n",
              "      <td>43.0</td>\n",
              "    </tr>\n",
              "    <tr>\n",
              "      <th>1</th>\n",
              "      <td>3</td>\n",
              "      <td>3</td>\n",
              "      <td>Kanuru</td>\n",
              "      <td>2287</td>\n",
              "      <td>Ready to move</td>\n",
              "      <td>East</td>\n",
              "      <td>Independent House</td>\n",
              "      <td>120.0</td>\n",
              "    </tr>\n",
              "    <tr>\n",
              "      <th>2</th>\n",
              "      <td>8</td>\n",
              "      <td>7</td>\n",
              "      <td>Currency Nagar</td>\n",
              "      <td>6500</td>\n",
              "      <td>Ready to move</td>\n",
              "      <td>0</td>\n",
              "      <td>Apartment</td>\n",
              "      <td>350.0</td>\n",
              "    </tr>\n",
              "    <tr>\n",
              "      <th>3</th>\n",
              "      <td>4</td>\n",
              "      <td>4</td>\n",
              "      <td>Kanuru</td>\n",
              "      <td>2715</td>\n",
              "      <td>Under Construction</td>\n",
              "      <td>0</td>\n",
              "      <td>Independent House</td>\n",
              "      <td>215.0</td>\n",
              "    </tr>\n",
              "    <tr>\n",
              "      <th>4</th>\n",
              "      <td>5</td>\n",
              "      <td>5</td>\n",
              "      <td>PNT Colony</td>\n",
              "      <td>3000</td>\n",
              "      <td>Ready to move</td>\n",
              "      <td>0</td>\n",
              "      <td>Independent House</td>\n",
              "      <td>150.0</td>\n",
              "    </tr>\n",
              "    <tr>\n",
              "      <th>...</th>\n",
              "      <td>...</td>\n",
              "      <td>...</td>\n",
              "      <td>...</td>\n",
              "      <td>...</td>\n",
              "      <td>...</td>\n",
              "      <td>...</td>\n",
              "      <td>...</td>\n",
              "      <td>...</td>\n",
              "    </tr>\n",
              "    <tr>\n",
              "      <th>1255</th>\n",
              "      <td>None</td>\n",
              "      <td>None</td>\n",
              "      <td>None</td>\n",
              "      <td>None</td>\n",
              "      <td>New</td>\n",
              "      <td>None</td>\n",
              "      <td>None</td>\n",
              "      <td>NaN</td>\n",
              "    </tr>\n",
              "    <tr>\n",
              "      <th>1256</th>\n",
              "      <td>None</td>\n",
              "      <td>None</td>\n",
              "      <td>None</td>\n",
              "      <td>None</td>\n",
              "      <td>New</td>\n",
              "      <td>None</td>\n",
              "      <td>None</td>\n",
              "      <td>NaN</td>\n",
              "    </tr>\n",
              "    <tr>\n",
              "      <th>1257</th>\n",
              "      <td>None</td>\n",
              "      <td>None</td>\n",
              "      <td>None</td>\n",
              "      <td>None</td>\n",
              "      <td>New</td>\n",
              "      <td>None</td>\n",
              "      <td>None</td>\n",
              "      <td>NaN</td>\n",
              "    </tr>\n",
              "    <tr>\n",
              "      <th>1258</th>\n",
              "      <td>None</td>\n",
              "      <td>None</td>\n",
              "      <td>None</td>\n",
              "      <td>None</td>\n",
              "      <td>New</td>\n",
              "      <td>None</td>\n",
              "      <td>None</td>\n",
              "      <td>NaN</td>\n",
              "    </tr>\n",
              "    <tr>\n",
              "      <th>1259</th>\n",
              "      <td>None</td>\n",
              "      <td>None</td>\n",
              "      <td>None</td>\n",
              "      <td>None</td>\n",
              "      <td>New</td>\n",
              "      <td>None</td>\n",
              "      <td>None</td>\n",
              "      <td>NaN</td>\n",
              "    </tr>\n",
              "  </tbody>\n",
              "</table>\n",
              "<p>1260 rows × 8 columns</p>\n",
              "</div>"
            ],
            "text/plain": [
              "     Bedroom Bathroom        Location  Size              status Facing  \\\n",
              "0          2        2       Gollapudi  1040       Ready to move      0   \n",
              "1          3        3          Kanuru  2287       Ready to move   East   \n",
              "2          8        7  Currency Nagar  6500       Ready to move      0   \n",
              "3          4        4          Kanuru  2715  Under Construction      0   \n",
              "4          5        5      PNT Colony  3000       Ready to move      0   \n",
              "...      ...      ...             ...   ...                 ...    ...   \n",
              "1255    None     None            None  None                 New   None   \n",
              "1256    None     None            None  None                 New   None   \n",
              "1257    None     None            None  None                 New   None   \n",
              "1258    None     None            None  None                 New   None   \n",
              "1259    None     None            None  None                 New   None   \n",
              "\n",
              "                   Type  Price  \n",
              "0             Apartment   43.0  \n",
              "1     Independent House  120.0  \n",
              "2             Apartment  350.0  \n",
              "3     Independent House  215.0  \n",
              "4     Independent House  150.0  \n",
              "...                 ...    ...  \n",
              "1255               None    NaN  \n",
              "1256               None    NaN  \n",
              "1257               None    NaN  \n",
              "1258               None    NaN  \n",
              "1259               None    NaN  \n",
              "\n",
              "[1260 rows x 8 columns]"
            ]
          },
          "execution_count": 24,
          "metadata": {},
          "output_type": "execute_result"
        }
      ],
      "source": [
        "# Create a dictionary with the scraped data\n",
        "data_dict = {\n",
        "    'Bedroom': Bedroom,\n",
        "    'Bathroom': Bathroom,\n",
        "    'Location': Location,\n",
        "    'Size': Size,\n",
        "    'status': status,\n",
        "    'Facing': Facing,\n",
        "    'Type': Type,\n",
        "    'Price': Price\n",
        "}\n",
        "\n",
        "# Find the length of the longest list\n",
        "max_length = max(len(Bedroom), len(Bathroom), len(Location), len(Size), len(status), len(Facing), len(Type), len(Price))\n",
        "\n",
        "# Pad the shorter lists with None values to match the length of the longest list\n",
        "for key in data_dict.keys():\n",
        "    data_dict[key] += [None] * (max_length - len(data_dict[key]))\n",
        "\n",
        "# Create a Pandas DataFrame from the dictionary\n",
        "data = pd.DataFrame.from_dict(data_dict)\n",
        "\n",
        "# Print the DataFrame\n",
        "data"
      ]
    },
    {
      "cell_type": "code",
      "execution_count": 25,
      "metadata": {
        "colab": {
          "base_uri": "https://localhost:8080/",
          "height": 334
        },
        "id": "YppzYl9fKfQn",
        "outputId": "8187a04f-da28-45b8-d349-47ee50b3cc6a"
      },
      "outputs": [
        {
          "data": {
            "text/plain": [
              "Bedroom     20\n",
              "Bathroom    20\n",
              "Location    20\n",
              "Size        20\n",
              "status       0\n",
              "Facing      20\n",
              "Type        82\n",
              "Price       20\n",
              "dtype: int64"
            ]
          },
          "execution_count": 25,
          "metadata": {},
          "output_type": "execute_result"
        }
      ],
      "source": [
        "data.isnull().sum()"
      ]
    },
    {
      "cell_type": "code",
      "execution_count": 26,
      "metadata": {
        "id": "XlJhdXwEKg0O"
      },
      "outputs": [],
      "source": [
        "data.dropna(inplace=True)"
      ]
    },
    {
      "cell_type": "code",
      "execution_count": 56,
      "metadata": {},
      "outputs": [],
      "source": [
        "data['Price'] = data['Price'] * 100000"
      ]
    },
    {
      "cell_type": "code",
      "execution_count": 57,
      "metadata": {
        "colab": {
          "base_uri": "https://localhost:8080/",
          "height": 423
        },
        "id": "3zppadcdKzwi",
        "outputId": "3c9895f8-b7bb-4fa3-e828-07cafb9ab273"
      },
      "outputs": [
        {
          "data": {
            "text/html": [
              "<div>\n",
              "<style scoped>\n",
              "    .dataframe tbody tr th:only-of-type {\n",
              "        vertical-align: middle;\n",
              "    }\n",
              "\n",
              "    .dataframe tbody tr th {\n",
              "        vertical-align: top;\n",
              "    }\n",
              "\n",
              "    .dataframe thead th {\n",
              "        text-align: right;\n",
              "    }\n",
              "</style>\n",
              "<table border=\"1\" class=\"dataframe\">\n",
              "  <thead>\n",
              "    <tr style=\"text-align: right;\">\n",
              "      <th></th>\n",
              "      <th>Bedroom</th>\n",
              "      <th>Bathroom</th>\n",
              "      <th>Location</th>\n",
              "      <th>Size</th>\n",
              "      <th>status</th>\n",
              "      <th>Facing</th>\n",
              "      <th>Type</th>\n",
              "      <th>Price</th>\n",
              "    </tr>\n",
              "  </thead>\n",
              "  <tbody>\n",
              "    <tr>\n",
              "      <th>0</th>\n",
              "      <td>3</td>\n",
              "      <td>3</td>\n",
              "      <td>Poranki</td>\n",
              "      <td>1587</td>\n",
              "      <td>Ready to move</td>\n",
              "      <td>West</td>\n",
              "      <td>Apartment</td>\n",
              "      <td>5550000.0</td>\n",
              "    </tr>\n",
              "    <tr>\n",
              "      <th>1</th>\n",
              "      <td>2</td>\n",
              "      <td>2</td>\n",
              "      <td>Poranki</td>\n",
              "      <td>1450</td>\n",
              "      <td>Ready to move</td>\n",
              "      <td>0</td>\n",
              "      <td>Apartment</td>\n",
              "      <td>4800000.0</td>\n",
              "    </tr>\n",
              "    <tr>\n",
              "      <th>2</th>\n",
              "      <td>2</td>\n",
              "      <td>2</td>\n",
              "      <td>Kankipadu</td>\n",
              "      <td>1290</td>\n",
              "      <td>Under Construction</td>\n",
              "      <td>NorthEast</td>\n",
              "      <td>Independent House</td>\n",
              "      <td>5000000.0</td>\n",
              "    </tr>\n",
              "    <tr>\n",
              "      <th>3</th>\n",
              "      <td>2</td>\n",
              "      <td>4</td>\n",
              "      <td>PNT Colony</td>\n",
              "      <td>1400</td>\n",
              "      <td>Ready to move</td>\n",
              "      <td>0</td>\n",
              "      <td>Independent House</td>\n",
              "      <td>7200000.0</td>\n",
              "    </tr>\n",
              "    <tr>\n",
              "      <th>4</th>\n",
              "      <td>2</td>\n",
              "      <td>2</td>\n",
              "      <td>Labbipet</td>\n",
              "      <td>950</td>\n",
              "      <td>Ready to move</td>\n",
              "      <td>East</td>\n",
              "      <td>Apartment</td>\n",
              "      <td>6000000.0</td>\n",
              "    </tr>\n",
              "    <tr>\n",
              "      <th>...</th>\n",
              "      <td>...</td>\n",
              "      <td>...</td>\n",
              "      <td>...</td>\n",
              "      <td>...</td>\n",
              "      <td>...</td>\n",
              "      <td>...</td>\n",
              "      <td>...</td>\n",
              "      <td>...</td>\n",
              "    </tr>\n",
              "    <tr>\n",
              "      <th>1111</th>\n",
              "      <td>3</td>\n",
              "      <td>3</td>\n",
              "      <td>Vidhyadharpuram</td>\n",
              "      <td>1600</td>\n",
              "      <td>Under Construction</td>\n",
              "      <td>West</td>\n",
              "      <td>Residential Plot</td>\n",
              "      <td>9500000.0</td>\n",
              "    </tr>\n",
              "    <tr>\n",
              "      <th>1112</th>\n",
              "      <td>6</td>\n",
              "      <td>7</td>\n",
              "      <td>Penamaluru</td>\n",
              "      <td>3700</td>\n",
              "      <td>Ready to move</td>\n",
              "      <td>0</td>\n",
              "      <td>Apartment</td>\n",
              "      <td>11000000.0</td>\n",
              "    </tr>\n",
              "    <tr>\n",
              "      <th>1113</th>\n",
              "      <td>0</td>\n",
              "      <td>0</td>\n",
              "      <td>Kankipadu</td>\n",
              "      <td>1782</td>\n",
              "      <td>Resale</td>\n",
              "      <td>0</td>\n",
              "      <td>Apartment</td>\n",
              "      <td>1683000.0</td>\n",
              "    </tr>\n",
              "    <tr>\n",
              "      <th>1114</th>\n",
              "      <td>0</td>\n",
              "      <td>0</td>\n",
              "      <td>Poranki</td>\n",
              "      <td>1800</td>\n",
              "      <td>Resale</td>\n",
              "      <td>West</td>\n",
              "      <td>Independent House</td>\n",
              "      <td>3300000.0</td>\n",
              "    </tr>\n",
              "    <tr>\n",
              "      <th>1115</th>\n",
              "      <td>0</td>\n",
              "      <td>0</td>\n",
              "      <td>Kankipadu</td>\n",
              "      <td>1500</td>\n",
              "      <td>Resale</td>\n",
              "      <td>0</td>\n",
              "      <td>Apartment</td>\n",
              "      <td>2000000.0</td>\n",
              "    </tr>\n",
              "  </tbody>\n",
              "</table>\n",
              "<p>1116 rows × 8 columns</p>\n",
              "</div>"
            ],
            "text/plain": [
              "      Bedroom  Bathroom         Location  Size              status     Facing  \\\n",
              "0           3         3          Poranki  1587       Ready to move       West   \n",
              "1           2         2          Poranki  1450       Ready to move          0   \n",
              "2           2         2        Kankipadu  1290  Under Construction  NorthEast   \n",
              "3           2         4       PNT Colony  1400       Ready to move          0   \n",
              "4           2         2         Labbipet   950       Ready to move       East   \n",
              "...       ...       ...              ...   ...                 ...        ...   \n",
              "1111        3         3  Vidhyadharpuram  1600  Under Construction       West   \n",
              "1112        6         7       Penamaluru  3700       Ready to move          0   \n",
              "1113        0         0        Kankipadu  1782              Resale          0   \n",
              "1114        0         0          Poranki  1800              Resale       West   \n",
              "1115        0         0        Kankipadu  1500              Resale          0   \n",
              "\n",
              "                   Type       Price  \n",
              "0             Apartment   5550000.0  \n",
              "1             Apartment   4800000.0  \n",
              "2     Independent House   5000000.0  \n",
              "3     Independent House   7200000.0  \n",
              "4             Apartment   6000000.0  \n",
              "...                 ...         ...  \n",
              "1111   Residential Plot   9500000.0  \n",
              "1112          Apartment  11000000.0  \n",
              "1113          Apartment   1683000.0  \n",
              "1114  Independent House   3300000.0  \n",
              "1115          Apartment   2000000.0  \n",
              "\n",
              "[1116 rows x 8 columns]"
            ]
          },
          "execution_count": 57,
          "metadata": {},
          "output_type": "execute_result"
        }
      ],
      "source": [
        "data"
      ]
    },
    {
      "cell_type": "code",
      "execution_count": 60,
      "metadata": {},
      "outputs": [],
      "source": [
        "data.to_csv('data/House.csv', index=False)"
      ]
    },
    {
      "cell_type": "code",
      "execution_count": 61,
      "metadata": {},
      "outputs": [],
      "source": [
        "data = pd.read_csv('data/House.csv')"
      ]
    },
    {
      "cell_type": "code",
      "execution_count": 62,
      "metadata": {
        "colab": {
          "base_uri": "https://localhost:8080/",
          "height": 423
        },
        "id": "S9niG2AsLBRw",
        "outputId": "13576647-17d5-4acb-a463-12f5346e30b5"
      },
      "outputs": [
        {
          "data": {
            "text/html": [
              "<div>\n",
              "<style scoped>\n",
              "    .dataframe tbody tr th:only-of-type {\n",
              "        vertical-align: middle;\n",
              "    }\n",
              "\n",
              "    .dataframe tbody tr th {\n",
              "        vertical-align: top;\n",
              "    }\n",
              "\n",
              "    .dataframe thead th {\n",
              "        text-align: right;\n",
              "    }\n",
              "</style>\n",
              "<table border=\"1\" class=\"dataframe\">\n",
              "  <thead>\n",
              "    <tr style=\"text-align: right;\">\n",
              "      <th></th>\n",
              "      <th>Bedroom</th>\n",
              "      <th>Bathroom</th>\n",
              "      <th>Location</th>\n",
              "      <th>Size</th>\n",
              "      <th>status</th>\n",
              "      <th>Facing</th>\n",
              "      <th>Type</th>\n",
              "      <th>Price</th>\n",
              "    </tr>\n",
              "  </thead>\n",
              "  <tbody>\n",
              "    <tr>\n",
              "      <th>0</th>\n",
              "      <td>3</td>\n",
              "      <td>3</td>\n",
              "      <td>Poranki</td>\n",
              "      <td>1587</td>\n",
              "      <td>Ready to move</td>\n",
              "      <td>West</td>\n",
              "      <td>Apartment</td>\n",
              "      <td>5550000.0</td>\n",
              "    </tr>\n",
              "    <tr>\n",
              "      <th>1</th>\n",
              "      <td>2</td>\n",
              "      <td>2</td>\n",
              "      <td>Poranki</td>\n",
              "      <td>1450</td>\n",
              "      <td>Ready to move</td>\n",
              "      <td>0</td>\n",
              "      <td>Apartment</td>\n",
              "      <td>4800000.0</td>\n",
              "    </tr>\n",
              "    <tr>\n",
              "      <th>2</th>\n",
              "      <td>2</td>\n",
              "      <td>2</td>\n",
              "      <td>Kankipadu</td>\n",
              "      <td>1290</td>\n",
              "      <td>Under Construction</td>\n",
              "      <td>NorthEast</td>\n",
              "      <td>Independent House</td>\n",
              "      <td>5000000.0</td>\n",
              "    </tr>\n",
              "    <tr>\n",
              "      <th>3</th>\n",
              "      <td>2</td>\n",
              "      <td>4</td>\n",
              "      <td>PNT Colony</td>\n",
              "      <td>1400</td>\n",
              "      <td>Ready to move</td>\n",
              "      <td>0</td>\n",
              "      <td>Independent House</td>\n",
              "      <td>7200000.0</td>\n",
              "    </tr>\n",
              "    <tr>\n",
              "      <th>4</th>\n",
              "      <td>2</td>\n",
              "      <td>2</td>\n",
              "      <td>Labbipet</td>\n",
              "      <td>950</td>\n",
              "      <td>Ready to move</td>\n",
              "      <td>East</td>\n",
              "      <td>Apartment</td>\n",
              "      <td>6000000.0</td>\n",
              "    </tr>\n",
              "    <tr>\n",
              "      <th>...</th>\n",
              "      <td>...</td>\n",
              "      <td>...</td>\n",
              "      <td>...</td>\n",
              "      <td>...</td>\n",
              "      <td>...</td>\n",
              "      <td>...</td>\n",
              "      <td>...</td>\n",
              "      <td>...</td>\n",
              "    </tr>\n",
              "    <tr>\n",
              "      <th>1111</th>\n",
              "      <td>3</td>\n",
              "      <td>3</td>\n",
              "      <td>Vidhyadharpuram</td>\n",
              "      <td>1600</td>\n",
              "      <td>Under Construction</td>\n",
              "      <td>West</td>\n",
              "      <td>Residential Plot</td>\n",
              "      <td>9500000.0</td>\n",
              "    </tr>\n",
              "    <tr>\n",
              "      <th>1112</th>\n",
              "      <td>6</td>\n",
              "      <td>7</td>\n",
              "      <td>Penamaluru</td>\n",
              "      <td>3700</td>\n",
              "      <td>Ready to move</td>\n",
              "      <td>0</td>\n",
              "      <td>Apartment</td>\n",
              "      <td>11000000.0</td>\n",
              "    </tr>\n",
              "    <tr>\n",
              "      <th>1113</th>\n",
              "      <td>0</td>\n",
              "      <td>0</td>\n",
              "      <td>Kankipadu</td>\n",
              "      <td>1782</td>\n",
              "      <td>Resale</td>\n",
              "      <td>0</td>\n",
              "      <td>Apartment</td>\n",
              "      <td>1683000.0</td>\n",
              "    </tr>\n",
              "    <tr>\n",
              "      <th>1114</th>\n",
              "      <td>0</td>\n",
              "      <td>0</td>\n",
              "      <td>Poranki</td>\n",
              "      <td>1800</td>\n",
              "      <td>Resale</td>\n",
              "      <td>West</td>\n",
              "      <td>Independent House</td>\n",
              "      <td>3300000.0</td>\n",
              "    </tr>\n",
              "    <tr>\n",
              "      <th>1115</th>\n",
              "      <td>0</td>\n",
              "      <td>0</td>\n",
              "      <td>Kankipadu</td>\n",
              "      <td>1500</td>\n",
              "      <td>Resale</td>\n",
              "      <td>0</td>\n",
              "      <td>Apartment</td>\n",
              "      <td>2000000.0</td>\n",
              "    </tr>\n",
              "  </tbody>\n",
              "</table>\n",
              "<p>1116 rows × 8 columns</p>\n",
              "</div>"
            ],
            "text/plain": [
              "      Bedroom  Bathroom         Location  Size              status     Facing  \\\n",
              "0           3         3          Poranki  1587       Ready to move       West   \n",
              "1           2         2          Poranki  1450       Ready to move          0   \n",
              "2           2         2        Kankipadu  1290  Under Construction  NorthEast   \n",
              "3           2         4       PNT Colony  1400       Ready to move          0   \n",
              "4           2         2         Labbipet   950       Ready to move       East   \n",
              "...       ...       ...              ...   ...                 ...        ...   \n",
              "1111        3         3  Vidhyadharpuram  1600  Under Construction       West   \n",
              "1112        6         7       Penamaluru  3700       Ready to move          0   \n",
              "1113        0         0        Kankipadu  1782              Resale          0   \n",
              "1114        0         0          Poranki  1800              Resale       West   \n",
              "1115        0         0        Kankipadu  1500              Resale          0   \n",
              "\n",
              "                   Type       Price  \n",
              "0             Apartment   5550000.0  \n",
              "1             Apartment   4800000.0  \n",
              "2     Independent House   5000000.0  \n",
              "3     Independent House   7200000.0  \n",
              "4             Apartment   6000000.0  \n",
              "...                 ...         ...  \n",
              "1111   Residential Plot   9500000.0  \n",
              "1112          Apartment  11000000.0  \n",
              "1113          Apartment   1683000.0  \n",
              "1114  Independent House   3300000.0  \n",
              "1115          Apartment   2000000.0  \n",
              "\n",
              "[1116 rows x 8 columns]"
            ]
          },
          "execution_count": 62,
          "metadata": {},
          "output_type": "execute_result"
        }
      ],
      "source": [
        "data"
      ]
    },
    {
      "cell_type": "code",
      "execution_count": 63,
      "metadata": {
        "colab": {
          "base_uri": "https://localhost:8080/"
        },
        "id": "g-fcoKqoLDUm",
        "outputId": "4052d240-403b-4906-dc24-bb7110278d1e"
      },
      "outputs": [
        {
          "name": "stdout",
          "output_type": "stream",
          "text": [
            "<class 'pandas.core.frame.DataFrame'>\n",
            "RangeIndex: 1116 entries, 0 to 1115\n",
            "Data columns (total 8 columns):\n",
            " #   Column    Non-Null Count  Dtype  \n",
            "---  ------    --------------  -----  \n",
            " 0   Bedroom   1116 non-null   int64  \n",
            " 1   Bathroom  1116 non-null   int64  \n",
            " 2   Location  1116 non-null   object \n",
            " 3   Size      1116 non-null   int64  \n",
            " 4   status    1116 non-null   object \n",
            " 5   Facing    1116 non-null   object \n",
            " 6   Type      1116 non-null   object \n",
            " 7   Price     1116 non-null   float64\n",
            "dtypes: float64(1), int64(3), object(4)\n",
            "memory usage: 69.9+ KB\n"
          ]
        }
      ],
      "source": [
        "data.info()"
      ]
    },
    {
      "cell_type": "code",
      "execution_count": 66,
      "metadata": {},
      "outputs": [],
      "source": [
        "import mysql.connector\n",
        "import plotly.express as px"
      ]
    },
    {
      "cell_type": "code",
      "execution_count": 67,
      "metadata": {},
      "outputs": [],
      "source": [
        "db_config = {\n",
        "    'user': 'root',            \n",
        "    'password': 'Rahul2002',   \n",
        "    'host': 'localhost',      \n",
        "    'database': 'real_estate' \n",
        "}"
      ]
    },
    {
      "cell_type": "code",
      "execution_count": 68,
      "metadata": {},
      "outputs": [],
      "source": [
        "conn = mysql.connector.connect(user=db_config['user'], password=db_config['password'], host=db_config['host'])\n",
        "cursor = conn.cursor()\n",
        "cursor.execute(\"CREATE DATABASE IF NOT EXISTS real_estate;\")\n",
        "conn.close()"
      ]
    },
    {
      "cell_type": "code",
      "execution_count": 69,
      "metadata": {},
      "outputs": [],
      "source": [
        "conn = mysql.connector.connect(**db_config)\n",
        "cursor = conn.cursor()"
      ]
    },
    {
      "cell_type": "code",
      "execution_count": 70,
      "metadata": {},
      "outputs": [],
      "source": [
        "create_table_query = \"\"\"\n",
        "CREATE TABLE IF NOT EXISTS properties (\n",
        "    Bedroom INT,\n",
        "    Bathroom INT,\n",
        "    Location VARCHAR(255),\n",
        "    Size VARCHAR(50),\n",
        "    Status VARCHAR(50),\n",
        "    Facing VARCHAR(50),\n",
        "    Type VARCHAR(50),\n",
        "    Price FLOAT\n",
        ");\n",
        "\"\"\"\n",
        "cursor.execute(create_table_query)"
      ]
    },
    {
      "cell_type": "code",
      "execution_count": 71,
      "metadata": {},
      "outputs": [],
      "source": [
        "insert_query = \"\"\"\n",
        "INSERT INTO properties (Bedroom, Bathroom, Location, Size, Status, Facing, Type, Price)\n",
        "VALUES (%s, %s, %s, %s, %s, %s, %s, %s)\n",
        "\"\"\"\n",
        "data_records = data.values.tolist()\n",
        "cursor.executemany(insert_query, data_records)\n",
        "conn.commit()"
      ]
    },
    {
      "cell_type": "code",
      "execution_count": 72,
      "metadata": {},
      "outputs": [
        {
          "name": "stderr",
          "output_type": "stream",
          "text": [
            "/var/folders/h6/5b3yntr53k73ngkclllbcq_40000gn/T/ipykernel_2893/2244939144.py:2: UserWarning:\n",
            "\n",
            "pandas only supports SQLAlchemy connectable (engine/connection) or database string URI or sqlite3 DBAPI2 connection. Other DBAPI2 objects are not tested. Please consider using SQLAlchemy.\n",
            "\n"
          ]
        }
      ],
      "source": [
        "data_query = \"SELECT * FROM properties\"\n",
        "data_from_db = pd.read_sql(data_query, conn)"
      ]
    },
    {
      "cell_type": "code",
      "execution_count": 73,
      "metadata": {},
      "outputs": [
        {
          "data": {
            "text/html": [
              "<div>\n",
              "<style scoped>\n",
              "    .dataframe tbody tr th:only-of-type {\n",
              "        vertical-align: middle;\n",
              "    }\n",
              "\n",
              "    .dataframe tbody tr th {\n",
              "        vertical-align: top;\n",
              "    }\n",
              "\n",
              "    .dataframe thead th {\n",
              "        text-align: right;\n",
              "    }\n",
              "</style>\n",
              "<table border=\"1\" class=\"dataframe\">\n",
              "  <thead>\n",
              "    <tr style=\"text-align: right;\">\n",
              "      <th></th>\n",
              "      <th>Bedroom</th>\n",
              "      <th>Bathroom</th>\n",
              "      <th>Location</th>\n",
              "      <th>Size</th>\n",
              "      <th>Status</th>\n",
              "      <th>Facing</th>\n",
              "      <th>Type</th>\n",
              "      <th>Price</th>\n",
              "    </tr>\n",
              "  </thead>\n",
              "  <tbody>\n",
              "    <tr>\n",
              "      <th>0</th>\n",
              "      <td>3</td>\n",
              "      <td>3</td>\n",
              "      <td>Poranki</td>\n",
              "      <td>1587</td>\n",
              "      <td>Ready to move</td>\n",
              "      <td>West</td>\n",
              "      <td>Apartment</td>\n",
              "      <td>5550000.0</td>\n",
              "    </tr>\n",
              "    <tr>\n",
              "      <th>1</th>\n",
              "      <td>2</td>\n",
              "      <td>2</td>\n",
              "      <td>Poranki</td>\n",
              "      <td>1450</td>\n",
              "      <td>Ready to move</td>\n",
              "      <td>0</td>\n",
              "      <td>Apartment</td>\n",
              "      <td>4800000.0</td>\n",
              "    </tr>\n",
              "    <tr>\n",
              "      <th>2</th>\n",
              "      <td>2</td>\n",
              "      <td>2</td>\n",
              "      <td>Kankipadu</td>\n",
              "      <td>1290</td>\n",
              "      <td>Under Construction</td>\n",
              "      <td>NorthEast</td>\n",
              "      <td>Independent House</td>\n",
              "      <td>5000000.0</td>\n",
              "    </tr>\n",
              "    <tr>\n",
              "      <th>3</th>\n",
              "      <td>2</td>\n",
              "      <td>4</td>\n",
              "      <td>PNT Colony</td>\n",
              "      <td>1400</td>\n",
              "      <td>Ready to move</td>\n",
              "      <td>0</td>\n",
              "      <td>Independent House</td>\n",
              "      <td>7200000.0</td>\n",
              "    </tr>\n",
              "    <tr>\n",
              "      <th>4</th>\n",
              "      <td>2</td>\n",
              "      <td>2</td>\n",
              "      <td>Labbipet</td>\n",
              "      <td>950</td>\n",
              "      <td>Ready to move</td>\n",
              "      <td>East</td>\n",
              "      <td>Apartment</td>\n",
              "      <td>6000000.0</td>\n",
              "    </tr>\n",
              "    <tr>\n",
              "      <th>...</th>\n",
              "      <td>...</td>\n",
              "      <td>...</td>\n",
              "      <td>...</td>\n",
              "      <td>...</td>\n",
              "      <td>...</td>\n",
              "      <td>...</td>\n",
              "      <td>...</td>\n",
              "      <td>...</td>\n",
              "    </tr>\n",
              "    <tr>\n",
              "      <th>1111</th>\n",
              "      <td>3</td>\n",
              "      <td>3</td>\n",
              "      <td>Vidhyadharpuram</td>\n",
              "      <td>1600</td>\n",
              "      <td>Under Construction</td>\n",
              "      <td>West</td>\n",
              "      <td>Residential Plot</td>\n",
              "      <td>9500000.0</td>\n",
              "    </tr>\n",
              "    <tr>\n",
              "      <th>1112</th>\n",
              "      <td>6</td>\n",
              "      <td>7</td>\n",
              "      <td>Penamaluru</td>\n",
              "      <td>3700</td>\n",
              "      <td>Ready to move</td>\n",
              "      <td>0</td>\n",
              "      <td>Apartment</td>\n",
              "      <td>11000000.0</td>\n",
              "    </tr>\n",
              "    <tr>\n",
              "      <th>1113</th>\n",
              "      <td>0</td>\n",
              "      <td>0</td>\n",
              "      <td>Kankipadu</td>\n",
              "      <td>1782</td>\n",
              "      <td>Resale</td>\n",
              "      <td>0</td>\n",
              "      <td>Apartment</td>\n",
              "      <td>1683000.0</td>\n",
              "    </tr>\n",
              "    <tr>\n",
              "      <th>1114</th>\n",
              "      <td>0</td>\n",
              "      <td>0</td>\n",
              "      <td>Poranki</td>\n",
              "      <td>1800</td>\n",
              "      <td>Resale</td>\n",
              "      <td>West</td>\n",
              "      <td>Independent House</td>\n",
              "      <td>3300000.0</td>\n",
              "    </tr>\n",
              "    <tr>\n",
              "      <th>1115</th>\n",
              "      <td>0</td>\n",
              "      <td>0</td>\n",
              "      <td>Kankipadu</td>\n",
              "      <td>1500</td>\n",
              "      <td>Resale</td>\n",
              "      <td>0</td>\n",
              "      <td>Apartment</td>\n",
              "      <td>2000000.0</td>\n",
              "    </tr>\n",
              "  </tbody>\n",
              "</table>\n",
              "<p>1116 rows × 8 columns</p>\n",
              "</div>"
            ],
            "text/plain": [
              "      Bedroom  Bathroom         Location  Size              Status     Facing  \\\n",
              "0           3         3          Poranki  1587       Ready to move       West   \n",
              "1           2         2          Poranki  1450       Ready to move          0   \n",
              "2           2         2        Kankipadu  1290  Under Construction  NorthEast   \n",
              "3           2         4       PNT Colony  1400       Ready to move          0   \n",
              "4           2         2         Labbipet   950       Ready to move       East   \n",
              "...       ...       ...              ...   ...                 ...        ...   \n",
              "1111        3         3  Vidhyadharpuram  1600  Under Construction       West   \n",
              "1112        6         7       Penamaluru  3700       Ready to move          0   \n",
              "1113        0         0        Kankipadu  1782              Resale          0   \n",
              "1114        0         0          Poranki  1800              Resale       West   \n",
              "1115        0         0        Kankipadu  1500              Resale          0   \n",
              "\n",
              "                   Type       Price  \n",
              "0             Apartment   5550000.0  \n",
              "1             Apartment   4800000.0  \n",
              "2     Independent House   5000000.0  \n",
              "3     Independent House   7200000.0  \n",
              "4             Apartment   6000000.0  \n",
              "...                 ...         ...  \n",
              "1111   Residential Plot   9500000.0  \n",
              "1112          Apartment  11000000.0  \n",
              "1113          Apartment   1683000.0  \n",
              "1114  Independent House   3300000.0  \n",
              "1115          Apartment   2000000.0  \n",
              "\n",
              "[1116 rows x 8 columns]"
            ]
          },
          "execution_count": 73,
          "metadata": {},
          "output_type": "execute_result"
        }
      ],
      "source": [
        "data_from_db"
      ]
    },
    {
      "cell_type": "code",
      "execution_count": 74,
      "metadata": {},
      "outputs": [],
      "source": [
        "cursor.close()\n",
        "conn.close()"
      ]
    },
    {
      "cell_type": "code",
      "execution_count": 75,
      "metadata": {},
      "outputs": [
        {
          "name": "stdout",
          "output_type": "stream",
          "text": [
            "<class 'pandas.core.frame.DataFrame'>\n",
            "RangeIndex: 1116 entries, 0 to 1115\n",
            "Data columns (total 8 columns):\n",
            " #   Column    Non-Null Count  Dtype  \n",
            "---  ------    --------------  -----  \n",
            " 0   Bedroom   1116 non-null   int64  \n",
            " 1   Bathroom  1116 non-null   int64  \n",
            " 2   Location  1116 non-null   object \n",
            " 3   Size      1116 non-null   object \n",
            " 4   Status    1116 non-null   object \n",
            " 5   Facing    1116 non-null   object \n",
            " 6   Type      1116 non-null   object \n",
            " 7   Price     1116 non-null   float64\n",
            "dtypes: float64(1), int64(2), object(5)\n",
            "memory usage: 69.9+ KB\n"
          ]
        }
      ],
      "source": [
        "data_from_db.info()"
      ]
    },
    {
      "cell_type": "code",
      "execution_count": 76,
      "metadata": {},
      "outputs": [],
      "source": [
        "data_from_db['Location'] = pd.Categorical(data_from_db['Location'])\n",
        "data_from_db['Status'] = pd.Categorical(data_from_db['Status'])\n",
        "data_from_db['Facing'] = pd.Categorical(data_from_db['Facing'])\n",
        "data_from_db['Type'] = pd.Categorical(data_from_db['Type'])"
      ]
    },
    {
      "cell_type": "code",
      "execution_count": 77,
      "metadata": {},
      "outputs": [
        {
          "name": "stdout",
          "output_type": "stream",
          "text": [
            "<class 'pandas.core.frame.DataFrame'>\n",
            "RangeIndex: 1116 entries, 0 to 1115\n",
            "Data columns (total 8 columns):\n",
            " #   Column    Non-Null Count  Dtype   \n",
            "---  ------    --------------  -----   \n",
            " 0   Bedroom   1116 non-null   int64   \n",
            " 1   Bathroom  1116 non-null   int64   \n",
            " 2   Location  1116 non-null   category\n",
            " 3   Size      1116 non-null   object  \n",
            " 4   Status    1116 non-null   category\n",
            " 5   Facing    1116 non-null   category\n",
            " 6   Type      1116 non-null   category\n",
            " 7   Price     1116 non-null   float64 \n",
            "dtypes: category(4), float64(1), int64(2), object(1)\n",
            "memory usage: 40.2+ KB\n"
          ]
        }
      ],
      "source": [
        "data_from_db.info()"
      ]
    },
    {
      "cell_type": "code",
      "execution_count": 78,
      "metadata": {},
      "outputs": [],
      "source": [
        "data_from_db['Size'] = data_from_db['Size'].astype(int)"
      ]
    },
    {
      "cell_type": "code",
      "execution_count": 79,
      "metadata": {},
      "outputs": [],
      "source": [
        "data_from_db['Price_per_sqft'] = data_from_db['Price'] / data_from_db['Size']"
      ]
    },
    {
      "cell_type": "code",
      "execution_count": 80,
      "metadata": {},
      "outputs": [
        {
          "data": {
            "text/html": [
              "<div>\n",
              "<style scoped>\n",
              "    .dataframe tbody tr th:only-of-type {\n",
              "        vertical-align: middle;\n",
              "    }\n",
              "\n",
              "    .dataframe tbody tr th {\n",
              "        vertical-align: top;\n",
              "    }\n",
              "\n",
              "    .dataframe thead th {\n",
              "        text-align: right;\n",
              "    }\n",
              "</style>\n",
              "<table border=\"1\" class=\"dataframe\">\n",
              "  <thead>\n",
              "    <tr style=\"text-align: right;\">\n",
              "      <th></th>\n",
              "      <th>Bedroom</th>\n",
              "      <th>Bathroom</th>\n",
              "      <th>Location</th>\n",
              "      <th>Size</th>\n",
              "      <th>Status</th>\n",
              "      <th>Facing</th>\n",
              "      <th>Type</th>\n",
              "      <th>Price</th>\n",
              "      <th>Price_per_sqft</th>\n",
              "    </tr>\n",
              "  </thead>\n",
              "  <tbody>\n",
              "    <tr>\n",
              "      <th>0</th>\n",
              "      <td>3</td>\n",
              "      <td>3</td>\n",
              "      <td>Poranki</td>\n",
              "      <td>1587</td>\n",
              "      <td>Ready to move</td>\n",
              "      <td>West</td>\n",
              "      <td>Apartment</td>\n",
              "      <td>5550000.0</td>\n",
              "      <td>3497.164461</td>\n",
              "    </tr>\n",
              "    <tr>\n",
              "      <th>1</th>\n",
              "      <td>2</td>\n",
              "      <td>2</td>\n",
              "      <td>Poranki</td>\n",
              "      <td>1450</td>\n",
              "      <td>Ready to move</td>\n",
              "      <td>0</td>\n",
              "      <td>Apartment</td>\n",
              "      <td>4800000.0</td>\n",
              "      <td>3310.344828</td>\n",
              "    </tr>\n",
              "    <tr>\n",
              "      <th>2</th>\n",
              "      <td>2</td>\n",
              "      <td>2</td>\n",
              "      <td>Kankipadu</td>\n",
              "      <td>1290</td>\n",
              "      <td>Under Construction</td>\n",
              "      <td>NorthEast</td>\n",
              "      <td>Independent House</td>\n",
              "      <td>5000000.0</td>\n",
              "      <td>3875.968992</td>\n",
              "    </tr>\n",
              "    <tr>\n",
              "      <th>3</th>\n",
              "      <td>2</td>\n",
              "      <td>4</td>\n",
              "      <td>PNT Colony</td>\n",
              "      <td>1400</td>\n",
              "      <td>Ready to move</td>\n",
              "      <td>0</td>\n",
              "      <td>Independent House</td>\n",
              "      <td>7200000.0</td>\n",
              "      <td>5142.857143</td>\n",
              "    </tr>\n",
              "    <tr>\n",
              "      <th>4</th>\n",
              "      <td>2</td>\n",
              "      <td>2</td>\n",
              "      <td>Labbipet</td>\n",
              "      <td>950</td>\n",
              "      <td>Ready to move</td>\n",
              "      <td>East</td>\n",
              "      <td>Apartment</td>\n",
              "      <td>6000000.0</td>\n",
              "      <td>6315.789474</td>\n",
              "    </tr>\n",
              "    <tr>\n",
              "      <th>...</th>\n",
              "      <td>...</td>\n",
              "      <td>...</td>\n",
              "      <td>...</td>\n",
              "      <td>...</td>\n",
              "      <td>...</td>\n",
              "      <td>...</td>\n",
              "      <td>...</td>\n",
              "      <td>...</td>\n",
              "      <td>...</td>\n",
              "    </tr>\n",
              "    <tr>\n",
              "      <th>1111</th>\n",
              "      <td>3</td>\n",
              "      <td>3</td>\n",
              "      <td>Vidhyadharpuram</td>\n",
              "      <td>1600</td>\n",
              "      <td>Under Construction</td>\n",
              "      <td>West</td>\n",
              "      <td>Residential Plot</td>\n",
              "      <td>9500000.0</td>\n",
              "      <td>5937.500000</td>\n",
              "    </tr>\n",
              "    <tr>\n",
              "      <th>1112</th>\n",
              "      <td>6</td>\n",
              "      <td>7</td>\n",
              "      <td>Penamaluru</td>\n",
              "      <td>3700</td>\n",
              "      <td>Ready to move</td>\n",
              "      <td>0</td>\n",
              "      <td>Apartment</td>\n",
              "      <td>11000000.0</td>\n",
              "      <td>2972.972973</td>\n",
              "    </tr>\n",
              "    <tr>\n",
              "      <th>1113</th>\n",
              "      <td>0</td>\n",
              "      <td>0</td>\n",
              "      <td>Kankipadu</td>\n",
              "      <td>1782</td>\n",
              "      <td>Resale</td>\n",
              "      <td>0</td>\n",
              "      <td>Apartment</td>\n",
              "      <td>1683000.0</td>\n",
              "      <td>944.444444</td>\n",
              "    </tr>\n",
              "    <tr>\n",
              "      <th>1114</th>\n",
              "      <td>0</td>\n",
              "      <td>0</td>\n",
              "      <td>Poranki</td>\n",
              "      <td>1800</td>\n",
              "      <td>Resale</td>\n",
              "      <td>West</td>\n",
              "      <td>Independent House</td>\n",
              "      <td>3300000.0</td>\n",
              "      <td>1833.333333</td>\n",
              "    </tr>\n",
              "    <tr>\n",
              "      <th>1115</th>\n",
              "      <td>0</td>\n",
              "      <td>0</td>\n",
              "      <td>Kankipadu</td>\n",
              "      <td>1500</td>\n",
              "      <td>Resale</td>\n",
              "      <td>0</td>\n",
              "      <td>Apartment</td>\n",
              "      <td>2000000.0</td>\n",
              "      <td>1333.333333</td>\n",
              "    </tr>\n",
              "  </tbody>\n",
              "</table>\n",
              "<p>1116 rows × 9 columns</p>\n",
              "</div>"
            ],
            "text/plain": [
              "      Bedroom  Bathroom         Location  Size              Status     Facing  \\\n",
              "0           3         3          Poranki  1587       Ready to move       West   \n",
              "1           2         2          Poranki  1450       Ready to move          0   \n",
              "2           2         2        Kankipadu  1290  Under Construction  NorthEast   \n",
              "3           2         4       PNT Colony  1400       Ready to move          0   \n",
              "4           2         2         Labbipet   950       Ready to move       East   \n",
              "...       ...       ...              ...   ...                 ...        ...   \n",
              "1111        3         3  Vidhyadharpuram  1600  Under Construction       West   \n",
              "1112        6         7       Penamaluru  3700       Ready to move          0   \n",
              "1113        0         0        Kankipadu  1782              Resale          0   \n",
              "1114        0         0          Poranki  1800              Resale       West   \n",
              "1115        0         0        Kankipadu  1500              Resale          0   \n",
              "\n",
              "                   Type       Price  Price_per_sqft  \n",
              "0             Apartment   5550000.0     3497.164461  \n",
              "1             Apartment   4800000.0     3310.344828  \n",
              "2     Independent House   5000000.0     3875.968992  \n",
              "3     Independent House   7200000.0     5142.857143  \n",
              "4             Apartment   6000000.0     6315.789474  \n",
              "...                 ...         ...             ...  \n",
              "1111   Residential Plot   9500000.0     5937.500000  \n",
              "1112          Apartment  11000000.0     2972.972973  \n",
              "1113          Apartment   1683000.0      944.444444  \n",
              "1114  Independent House   3300000.0     1833.333333  \n",
              "1115          Apartment   2000000.0     1333.333333  \n",
              "\n",
              "[1116 rows x 9 columns]"
            ]
          },
          "execution_count": 80,
          "metadata": {},
          "output_type": "execute_result"
        }
      ],
      "source": [
        "data_from_db"
      ]
    },
    {
      "cell_type": "code",
      "execution_count": 81,
      "metadata": {},
      "outputs": [
        {
          "name": "stdout",
          "output_type": "stream",
          "text": [
            "<class 'pandas.core.frame.DataFrame'>\n",
            "RangeIndex: 1116 entries, 0 to 1115\n",
            "Data columns (total 9 columns):\n",
            " #   Column          Non-Null Count  Dtype   \n",
            "---  ------          --------------  -----   \n",
            " 0   Bedroom         1116 non-null   int64   \n",
            " 1   Bathroom        1116 non-null   int64   \n",
            " 2   Location        1116 non-null   category\n",
            " 3   Size            1116 non-null   int64   \n",
            " 4   Status          1116 non-null   category\n",
            " 5   Facing          1116 non-null   category\n",
            " 6   Type            1116 non-null   category\n",
            " 7   Price           1116 non-null   float64 \n",
            " 8   Price_per_sqft  1116 non-null   float64 \n",
            "dtypes: category(4), float64(2), int64(3)\n",
            "memory usage: 48.9 KB\n"
          ]
        }
      ],
      "source": [
        "data_from_db.info()"
      ]
    },
    {
      "cell_type": "code",
      "execution_count": 117,
      "metadata": {},
      "outputs": [
        {
          "name": "stderr",
          "output_type": "stream",
          "text": [
            "/var/folders/h6/5b3yntr53k73ngkclllbcq_40000gn/T/ipykernel_2893/2624454310.py:1: FutureWarning:\n",
            "\n",
            "The default of observed=False is deprecated and will be changed to True in a future version of pandas. Pass observed=False to retain current behavior or observed=True to adopt the future default and silence this warning.\n",
            "\n"
          ]
        },
        {
          "data": {
            "application/vnd.plotly.v1+json": {
              "config": {
                "plotlyServerURL": "https://plot.ly"
              },
              "data": [
                {
                  "alignmentgroup": "True",
                  "hovertemplate": "Property Type=%{x}<br>Price per Sq. Ft.=%{y}<extra></extra>",
                  "legendgroup": "",
                  "marker": {
                    "color": "#636efa",
                    "pattern": {
                      "shape": ""
                    }
                  },
                  "name": "",
                  "offsetgroup": "",
                  "orientation": "v",
                  "showlegend": false,
                  "textposition": "auto",
                  "type": "bar",
                  "x": [
                    "Apartment",
                    "Independent House",
                    "Residential Plot"
                  ],
                  "xaxis": "x",
                  "y": [
                    4086.7545527110433,
                    4144.471609683632,
                    4006.2147391963385
                  ],
                  "yaxis": "y"
                }
              ],
              "layout": {
                "barmode": "relative",
                "legend": {
                  "tracegroupgap": 0
                },
                "template": {
                  "data": {
                    "bar": [
                      {
                        "error_x": {
                          "color": "#2a3f5f"
                        },
                        "error_y": {
                          "color": "#2a3f5f"
                        },
                        "marker": {
                          "line": {
                            "color": "#E5ECF6",
                            "width": 0.5
                          },
                          "pattern": {
                            "fillmode": "overlay",
                            "size": 10,
                            "solidity": 0.2
                          }
                        },
                        "type": "bar"
                      }
                    ],
                    "barpolar": [
                      {
                        "marker": {
                          "line": {
                            "color": "#E5ECF6",
                            "width": 0.5
                          },
                          "pattern": {
                            "fillmode": "overlay",
                            "size": 10,
                            "solidity": 0.2
                          }
                        },
                        "type": "barpolar"
                      }
                    ],
                    "carpet": [
                      {
                        "aaxis": {
                          "endlinecolor": "#2a3f5f",
                          "gridcolor": "white",
                          "linecolor": "white",
                          "minorgridcolor": "white",
                          "startlinecolor": "#2a3f5f"
                        },
                        "baxis": {
                          "endlinecolor": "#2a3f5f",
                          "gridcolor": "white",
                          "linecolor": "white",
                          "minorgridcolor": "white",
                          "startlinecolor": "#2a3f5f"
                        },
                        "type": "carpet"
                      }
                    ],
                    "choropleth": [
                      {
                        "colorbar": {
                          "outlinewidth": 0,
                          "ticks": ""
                        },
                        "type": "choropleth"
                      }
                    ],
                    "contour": [
                      {
                        "colorbar": {
                          "outlinewidth": 0,
                          "ticks": ""
                        },
                        "colorscale": [
                          [
                            0,
                            "#0d0887"
                          ],
                          [
                            0.1111111111111111,
                            "#46039f"
                          ],
                          [
                            0.2222222222222222,
                            "#7201a8"
                          ],
                          [
                            0.3333333333333333,
                            "#9c179e"
                          ],
                          [
                            0.4444444444444444,
                            "#bd3786"
                          ],
                          [
                            0.5555555555555556,
                            "#d8576b"
                          ],
                          [
                            0.6666666666666666,
                            "#ed7953"
                          ],
                          [
                            0.7777777777777778,
                            "#fb9f3a"
                          ],
                          [
                            0.8888888888888888,
                            "#fdca26"
                          ],
                          [
                            1,
                            "#f0f921"
                          ]
                        ],
                        "type": "contour"
                      }
                    ],
                    "contourcarpet": [
                      {
                        "colorbar": {
                          "outlinewidth": 0,
                          "ticks": ""
                        },
                        "type": "contourcarpet"
                      }
                    ],
                    "heatmap": [
                      {
                        "colorbar": {
                          "outlinewidth": 0,
                          "ticks": ""
                        },
                        "colorscale": [
                          [
                            0,
                            "#0d0887"
                          ],
                          [
                            0.1111111111111111,
                            "#46039f"
                          ],
                          [
                            0.2222222222222222,
                            "#7201a8"
                          ],
                          [
                            0.3333333333333333,
                            "#9c179e"
                          ],
                          [
                            0.4444444444444444,
                            "#bd3786"
                          ],
                          [
                            0.5555555555555556,
                            "#d8576b"
                          ],
                          [
                            0.6666666666666666,
                            "#ed7953"
                          ],
                          [
                            0.7777777777777778,
                            "#fb9f3a"
                          ],
                          [
                            0.8888888888888888,
                            "#fdca26"
                          ],
                          [
                            1,
                            "#f0f921"
                          ]
                        ],
                        "type": "heatmap"
                      }
                    ],
                    "heatmapgl": [
                      {
                        "colorbar": {
                          "outlinewidth": 0,
                          "ticks": ""
                        },
                        "colorscale": [
                          [
                            0,
                            "#0d0887"
                          ],
                          [
                            0.1111111111111111,
                            "#46039f"
                          ],
                          [
                            0.2222222222222222,
                            "#7201a8"
                          ],
                          [
                            0.3333333333333333,
                            "#9c179e"
                          ],
                          [
                            0.4444444444444444,
                            "#bd3786"
                          ],
                          [
                            0.5555555555555556,
                            "#d8576b"
                          ],
                          [
                            0.6666666666666666,
                            "#ed7953"
                          ],
                          [
                            0.7777777777777778,
                            "#fb9f3a"
                          ],
                          [
                            0.8888888888888888,
                            "#fdca26"
                          ],
                          [
                            1,
                            "#f0f921"
                          ]
                        ],
                        "type": "heatmapgl"
                      }
                    ],
                    "histogram": [
                      {
                        "marker": {
                          "pattern": {
                            "fillmode": "overlay",
                            "size": 10,
                            "solidity": 0.2
                          }
                        },
                        "type": "histogram"
                      }
                    ],
                    "histogram2d": [
                      {
                        "colorbar": {
                          "outlinewidth": 0,
                          "ticks": ""
                        },
                        "colorscale": [
                          [
                            0,
                            "#0d0887"
                          ],
                          [
                            0.1111111111111111,
                            "#46039f"
                          ],
                          [
                            0.2222222222222222,
                            "#7201a8"
                          ],
                          [
                            0.3333333333333333,
                            "#9c179e"
                          ],
                          [
                            0.4444444444444444,
                            "#bd3786"
                          ],
                          [
                            0.5555555555555556,
                            "#d8576b"
                          ],
                          [
                            0.6666666666666666,
                            "#ed7953"
                          ],
                          [
                            0.7777777777777778,
                            "#fb9f3a"
                          ],
                          [
                            0.8888888888888888,
                            "#fdca26"
                          ],
                          [
                            1,
                            "#f0f921"
                          ]
                        ],
                        "type": "histogram2d"
                      }
                    ],
                    "histogram2dcontour": [
                      {
                        "colorbar": {
                          "outlinewidth": 0,
                          "ticks": ""
                        },
                        "colorscale": [
                          [
                            0,
                            "#0d0887"
                          ],
                          [
                            0.1111111111111111,
                            "#46039f"
                          ],
                          [
                            0.2222222222222222,
                            "#7201a8"
                          ],
                          [
                            0.3333333333333333,
                            "#9c179e"
                          ],
                          [
                            0.4444444444444444,
                            "#bd3786"
                          ],
                          [
                            0.5555555555555556,
                            "#d8576b"
                          ],
                          [
                            0.6666666666666666,
                            "#ed7953"
                          ],
                          [
                            0.7777777777777778,
                            "#fb9f3a"
                          ],
                          [
                            0.8888888888888888,
                            "#fdca26"
                          ],
                          [
                            1,
                            "#f0f921"
                          ]
                        ],
                        "type": "histogram2dcontour"
                      }
                    ],
                    "mesh3d": [
                      {
                        "colorbar": {
                          "outlinewidth": 0,
                          "ticks": ""
                        },
                        "type": "mesh3d"
                      }
                    ],
                    "parcoords": [
                      {
                        "line": {
                          "colorbar": {
                            "outlinewidth": 0,
                            "ticks": ""
                          }
                        },
                        "type": "parcoords"
                      }
                    ],
                    "pie": [
                      {
                        "automargin": true,
                        "type": "pie"
                      }
                    ],
                    "scatter": [
                      {
                        "fillpattern": {
                          "fillmode": "overlay",
                          "size": 10,
                          "solidity": 0.2
                        },
                        "type": "scatter"
                      }
                    ],
                    "scatter3d": [
                      {
                        "line": {
                          "colorbar": {
                            "outlinewidth": 0,
                            "ticks": ""
                          }
                        },
                        "marker": {
                          "colorbar": {
                            "outlinewidth": 0,
                            "ticks": ""
                          }
                        },
                        "type": "scatter3d"
                      }
                    ],
                    "scattercarpet": [
                      {
                        "marker": {
                          "colorbar": {
                            "outlinewidth": 0,
                            "ticks": ""
                          }
                        },
                        "type": "scattercarpet"
                      }
                    ],
                    "scattergeo": [
                      {
                        "marker": {
                          "colorbar": {
                            "outlinewidth": 0,
                            "ticks": ""
                          }
                        },
                        "type": "scattergeo"
                      }
                    ],
                    "scattergl": [
                      {
                        "marker": {
                          "colorbar": {
                            "outlinewidth": 0,
                            "ticks": ""
                          }
                        },
                        "type": "scattergl"
                      }
                    ],
                    "scattermapbox": [
                      {
                        "marker": {
                          "colorbar": {
                            "outlinewidth": 0,
                            "ticks": ""
                          }
                        },
                        "type": "scattermapbox"
                      }
                    ],
                    "scatterpolar": [
                      {
                        "marker": {
                          "colorbar": {
                            "outlinewidth": 0,
                            "ticks": ""
                          }
                        },
                        "type": "scatterpolar"
                      }
                    ],
                    "scatterpolargl": [
                      {
                        "marker": {
                          "colorbar": {
                            "outlinewidth": 0,
                            "ticks": ""
                          }
                        },
                        "type": "scatterpolargl"
                      }
                    ],
                    "scatterternary": [
                      {
                        "marker": {
                          "colorbar": {
                            "outlinewidth": 0,
                            "ticks": ""
                          }
                        },
                        "type": "scatterternary"
                      }
                    ],
                    "surface": [
                      {
                        "colorbar": {
                          "outlinewidth": 0,
                          "ticks": ""
                        },
                        "colorscale": [
                          [
                            0,
                            "#0d0887"
                          ],
                          [
                            0.1111111111111111,
                            "#46039f"
                          ],
                          [
                            0.2222222222222222,
                            "#7201a8"
                          ],
                          [
                            0.3333333333333333,
                            "#9c179e"
                          ],
                          [
                            0.4444444444444444,
                            "#bd3786"
                          ],
                          [
                            0.5555555555555556,
                            "#d8576b"
                          ],
                          [
                            0.6666666666666666,
                            "#ed7953"
                          ],
                          [
                            0.7777777777777778,
                            "#fb9f3a"
                          ],
                          [
                            0.8888888888888888,
                            "#fdca26"
                          ],
                          [
                            1,
                            "#f0f921"
                          ]
                        ],
                        "type": "surface"
                      }
                    ],
                    "table": [
                      {
                        "cells": {
                          "fill": {
                            "color": "#EBF0F8"
                          },
                          "line": {
                            "color": "white"
                          }
                        },
                        "header": {
                          "fill": {
                            "color": "#C8D4E3"
                          },
                          "line": {
                            "color": "white"
                          }
                        },
                        "type": "table"
                      }
                    ]
                  },
                  "layout": {
                    "annotationdefaults": {
                      "arrowcolor": "#2a3f5f",
                      "arrowhead": 0,
                      "arrowwidth": 1
                    },
                    "autotypenumbers": "strict",
                    "coloraxis": {
                      "colorbar": {
                        "outlinewidth": 0,
                        "ticks": ""
                      }
                    },
                    "colorscale": {
                      "diverging": [
                        [
                          0,
                          "#8e0152"
                        ],
                        [
                          0.1,
                          "#c51b7d"
                        ],
                        [
                          0.2,
                          "#de77ae"
                        ],
                        [
                          0.3,
                          "#f1b6da"
                        ],
                        [
                          0.4,
                          "#fde0ef"
                        ],
                        [
                          0.5,
                          "#f7f7f7"
                        ],
                        [
                          0.6,
                          "#e6f5d0"
                        ],
                        [
                          0.7,
                          "#b8e186"
                        ],
                        [
                          0.8,
                          "#7fbc41"
                        ],
                        [
                          0.9,
                          "#4d9221"
                        ],
                        [
                          1,
                          "#276419"
                        ]
                      ],
                      "sequential": [
                        [
                          0,
                          "#0d0887"
                        ],
                        [
                          0.1111111111111111,
                          "#46039f"
                        ],
                        [
                          0.2222222222222222,
                          "#7201a8"
                        ],
                        [
                          0.3333333333333333,
                          "#9c179e"
                        ],
                        [
                          0.4444444444444444,
                          "#bd3786"
                        ],
                        [
                          0.5555555555555556,
                          "#d8576b"
                        ],
                        [
                          0.6666666666666666,
                          "#ed7953"
                        ],
                        [
                          0.7777777777777778,
                          "#fb9f3a"
                        ],
                        [
                          0.8888888888888888,
                          "#fdca26"
                        ],
                        [
                          1,
                          "#f0f921"
                        ]
                      ],
                      "sequentialminus": [
                        [
                          0,
                          "#0d0887"
                        ],
                        [
                          0.1111111111111111,
                          "#46039f"
                        ],
                        [
                          0.2222222222222222,
                          "#7201a8"
                        ],
                        [
                          0.3333333333333333,
                          "#9c179e"
                        ],
                        [
                          0.4444444444444444,
                          "#bd3786"
                        ],
                        [
                          0.5555555555555556,
                          "#d8576b"
                        ],
                        [
                          0.6666666666666666,
                          "#ed7953"
                        ],
                        [
                          0.7777777777777778,
                          "#fb9f3a"
                        ],
                        [
                          0.8888888888888888,
                          "#fdca26"
                        ],
                        [
                          1,
                          "#f0f921"
                        ]
                      ]
                    },
                    "colorway": [
                      "#636efa",
                      "#EF553B",
                      "#00cc96",
                      "#ab63fa",
                      "#FFA15A",
                      "#19d3f3",
                      "#FF6692",
                      "#B6E880",
                      "#FF97FF",
                      "#FECB52"
                    ],
                    "font": {
                      "color": "#2a3f5f"
                    },
                    "geo": {
                      "bgcolor": "white",
                      "lakecolor": "white",
                      "landcolor": "#E5ECF6",
                      "showlakes": true,
                      "showland": true,
                      "subunitcolor": "white"
                    },
                    "hoverlabel": {
                      "align": "left"
                    },
                    "hovermode": "closest",
                    "mapbox": {
                      "style": "light"
                    },
                    "paper_bgcolor": "white",
                    "plot_bgcolor": "#E5ECF6",
                    "polar": {
                      "angularaxis": {
                        "gridcolor": "white",
                        "linecolor": "white",
                        "ticks": ""
                      },
                      "bgcolor": "#E5ECF6",
                      "radialaxis": {
                        "gridcolor": "white",
                        "linecolor": "white",
                        "ticks": ""
                      }
                    },
                    "scene": {
                      "xaxis": {
                        "backgroundcolor": "#E5ECF6",
                        "gridcolor": "white",
                        "gridwidth": 2,
                        "linecolor": "white",
                        "showbackground": true,
                        "ticks": "",
                        "zerolinecolor": "white"
                      },
                      "yaxis": {
                        "backgroundcolor": "#E5ECF6",
                        "gridcolor": "white",
                        "gridwidth": 2,
                        "linecolor": "white",
                        "showbackground": true,
                        "ticks": "",
                        "zerolinecolor": "white"
                      },
                      "zaxis": {
                        "backgroundcolor": "#E5ECF6",
                        "gridcolor": "white",
                        "gridwidth": 2,
                        "linecolor": "white",
                        "showbackground": true,
                        "ticks": "",
                        "zerolinecolor": "white"
                      }
                    },
                    "shapedefaults": {
                      "line": {
                        "color": "#2a3f5f"
                      }
                    },
                    "ternary": {
                      "aaxis": {
                        "gridcolor": "white",
                        "linecolor": "white",
                        "ticks": ""
                      },
                      "baxis": {
                        "gridcolor": "white",
                        "linecolor": "white",
                        "ticks": ""
                      },
                      "bgcolor": "#E5ECF6",
                      "caxis": {
                        "gridcolor": "white",
                        "linecolor": "white",
                        "ticks": ""
                      }
                    },
                    "title": {
                      "x": 0.05
                    },
                    "xaxis": {
                      "automargin": true,
                      "gridcolor": "white",
                      "linecolor": "white",
                      "ticks": "",
                      "title": {
                        "standoff": 15
                      },
                      "zerolinecolor": "white",
                      "zerolinewidth": 2
                    },
                    "yaxis": {
                      "automargin": true,
                      "gridcolor": "white",
                      "linecolor": "white",
                      "ticks": "",
                      "title": {
                        "standoff": 15
                      },
                      "zerolinecolor": "white",
                      "zerolinewidth": 2
                    }
                  }
                },
                "title": {
                  "text": "Average Price per Square Foot by Property Type"
                },
                "xaxis": {
                  "anchor": "y",
                  "domain": [
                    0,
                    1
                  ],
                  "title": {
                    "text": "Property Type"
                  }
                },
                "yaxis": {
                  "anchor": "x",
                  "domain": [
                    0,
                    1
                  ],
                  "title": {
                    "text": "Price per Sq. Ft."
                  }
                }
              }
            }
          },
          "metadata": {},
          "output_type": "display_data"
        }
      ],
      "source": [
        "avg_price_by_type = data_from_db.groupby('Type')['Price_per_sqft'].mean().reset_index()\n",
        "\n",
        "fig1 = px.bar(\n",
        "    avg_price_by_type, x='Type', y='Price_per_sqft',\n",
        "    title='Average Price per Square Foot by Property Type',\n",
        "    labels={'Price_per_sqft': 'Price per Sq. Ft.', 'Type': 'Property Type'}\n",
        ")\n",
        "fig1.update_layout(xaxis_title='Property Type', yaxis_title='Price per Sq. Ft.')\n",
        "fig1.show()"
      ]
    },
    {
      "cell_type": "code",
      "execution_count": 118,
      "metadata": {},
      "outputs": [
        {
          "name": "stderr",
          "output_type": "stream",
          "text": [
            "/var/folders/h6/5b3yntr53k73ngkclllbcq_40000gn/T/ipykernel_2893/1011080016.py:1: FutureWarning:\n",
            "\n",
            "The default of observed=False is deprecated and will be changed to True in a future version of pandas. Pass observed=False to retain current behavior or observed=True to adopt the future default and silence this warning.\n",
            "\n"
          ]
        },
        {
          "data": {
            "application/vnd.plotly.v1+json": {
              "config": {
                "plotlyServerURL": "https://plot.ly"
              },
              "data": [
                {
                  "alignmentgroup": "True",
                  "hovertemplate": "Location=%{x}<br>Average Price per Sq. Ft. (in Lakhs)=%{y}<extra></extra>",
                  "legendgroup": "",
                  "marker": {
                    "color": "#636efa",
                    "pattern": {
                      "shape": ""
                    }
                  },
                  "name": "",
                  "offsetgroup": "",
                  "orientation": "v",
                  "showlegend": false,
                  "textposition": "auto",
                  "type": "bar",
                  "x": [
                    "Labbipet",
                    "Benz Circle",
                    "Vidhyadharpuram",
                    "Payakapuram",
                    "PNT Colony",
                    "Gollapudi",
                    "Gannavaram",
                    "Gunadala",
                    "Enikepadu",
                    "Poranki"
                  ],
                  "xaxis": "x",
                  "y": [
                    6315.789473684211,
                    6221.860154375715,
                    5937.5,
                    5600,
                    5142.857142857143,
                    4316.1978661493695,
                    3978.1356822848106,
                    3733.3333333333335,
                    3120,
                    2993.543988875128
                  ],
                  "yaxis": "y"
                }
              ],
              "layout": {
                "barmode": "relative",
                "legend": {
                  "tracegroupgap": 0
                },
                "template": {
                  "data": {
                    "bar": [
                      {
                        "error_x": {
                          "color": "#2a3f5f"
                        },
                        "error_y": {
                          "color": "#2a3f5f"
                        },
                        "marker": {
                          "line": {
                            "color": "#E5ECF6",
                            "width": 0.5
                          },
                          "pattern": {
                            "fillmode": "overlay",
                            "size": 10,
                            "solidity": 0.2
                          }
                        },
                        "type": "bar"
                      }
                    ],
                    "barpolar": [
                      {
                        "marker": {
                          "line": {
                            "color": "#E5ECF6",
                            "width": 0.5
                          },
                          "pattern": {
                            "fillmode": "overlay",
                            "size": 10,
                            "solidity": 0.2
                          }
                        },
                        "type": "barpolar"
                      }
                    ],
                    "carpet": [
                      {
                        "aaxis": {
                          "endlinecolor": "#2a3f5f",
                          "gridcolor": "white",
                          "linecolor": "white",
                          "minorgridcolor": "white",
                          "startlinecolor": "#2a3f5f"
                        },
                        "baxis": {
                          "endlinecolor": "#2a3f5f",
                          "gridcolor": "white",
                          "linecolor": "white",
                          "minorgridcolor": "white",
                          "startlinecolor": "#2a3f5f"
                        },
                        "type": "carpet"
                      }
                    ],
                    "choropleth": [
                      {
                        "colorbar": {
                          "outlinewidth": 0,
                          "ticks": ""
                        },
                        "type": "choropleth"
                      }
                    ],
                    "contour": [
                      {
                        "colorbar": {
                          "outlinewidth": 0,
                          "ticks": ""
                        },
                        "colorscale": [
                          [
                            0,
                            "#0d0887"
                          ],
                          [
                            0.1111111111111111,
                            "#46039f"
                          ],
                          [
                            0.2222222222222222,
                            "#7201a8"
                          ],
                          [
                            0.3333333333333333,
                            "#9c179e"
                          ],
                          [
                            0.4444444444444444,
                            "#bd3786"
                          ],
                          [
                            0.5555555555555556,
                            "#d8576b"
                          ],
                          [
                            0.6666666666666666,
                            "#ed7953"
                          ],
                          [
                            0.7777777777777778,
                            "#fb9f3a"
                          ],
                          [
                            0.8888888888888888,
                            "#fdca26"
                          ],
                          [
                            1,
                            "#f0f921"
                          ]
                        ],
                        "type": "contour"
                      }
                    ],
                    "contourcarpet": [
                      {
                        "colorbar": {
                          "outlinewidth": 0,
                          "ticks": ""
                        },
                        "type": "contourcarpet"
                      }
                    ],
                    "heatmap": [
                      {
                        "colorbar": {
                          "outlinewidth": 0,
                          "ticks": ""
                        },
                        "colorscale": [
                          [
                            0,
                            "#0d0887"
                          ],
                          [
                            0.1111111111111111,
                            "#46039f"
                          ],
                          [
                            0.2222222222222222,
                            "#7201a8"
                          ],
                          [
                            0.3333333333333333,
                            "#9c179e"
                          ],
                          [
                            0.4444444444444444,
                            "#bd3786"
                          ],
                          [
                            0.5555555555555556,
                            "#d8576b"
                          ],
                          [
                            0.6666666666666666,
                            "#ed7953"
                          ],
                          [
                            0.7777777777777778,
                            "#fb9f3a"
                          ],
                          [
                            0.8888888888888888,
                            "#fdca26"
                          ],
                          [
                            1,
                            "#f0f921"
                          ]
                        ],
                        "type": "heatmap"
                      }
                    ],
                    "heatmapgl": [
                      {
                        "colorbar": {
                          "outlinewidth": 0,
                          "ticks": ""
                        },
                        "colorscale": [
                          [
                            0,
                            "#0d0887"
                          ],
                          [
                            0.1111111111111111,
                            "#46039f"
                          ],
                          [
                            0.2222222222222222,
                            "#7201a8"
                          ],
                          [
                            0.3333333333333333,
                            "#9c179e"
                          ],
                          [
                            0.4444444444444444,
                            "#bd3786"
                          ],
                          [
                            0.5555555555555556,
                            "#d8576b"
                          ],
                          [
                            0.6666666666666666,
                            "#ed7953"
                          ],
                          [
                            0.7777777777777778,
                            "#fb9f3a"
                          ],
                          [
                            0.8888888888888888,
                            "#fdca26"
                          ],
                          [
                            1,
                            "#f0f921"
                          ]
                        ],
                        "type": "heatmapgl"
                      }
                    ],
                    "histogram": [
                      {
                        "marker": {
                          "pattern": {
                            "fillmode": "overlay",
                            "size": 10,
                            "solidity": 0.2
                          }
                        },
                        "type": "histogram"
                      }
                    ],
                    "histogram2d": [
                      {
                        "colorbar": {
                          "outlinewidth": 0,
                          "ticks": ""
                        },
                        "colorscale": [
                          [
                            0,
                            "#0d0887"
                          ],
                          [
                            0.1111111111111111,
                            "#46039f"
                          ],
                          [
                            0.2222222222222222,
                            "#7201a8"
                          ],
                          [
                            0.3333333333333333,
                            "#9c179e"
                          ],
                          [
                            0.4444444444444444,
                            "#bd3786"
                          ],
                          [
                            0.5555555555555556,
                            "#d8576b"
                          ],
                          [
                            0.6666666666666666,
                            "#ed7953"
                          ],
                          [
                            0.7777777777777778,
                            "#fb9f3a"
                          ],
                          [
                            0.8888888888888888,
                            "#fdca26"
                          ],
                          [
                            1,
                            "#f0f921"
                          ]
                        ],
                        "type": "histogram2d"
                      }
                    ],
                    "histogram2dcontour": [
                      {
                        "colorbar": {
                          "outlinewidth": 0,
                          "ticks": ""
                        },
                        "colorscale": [
                          [
                            0,
                            "#0d0887"
                          ],
                          [
                            0.1111111111111111,
                            "#46039f"
                          ],
                          [
                            0.2222222222222222,
                            "#7201a8"
                          ],
                          [
                            0.3333333333333333,
                            "#9c179e"
                          ],
                          [
                            0.4444444444444444,
                            "#bd3786"
                          ],
                          [
                            0.5555555555555556,
                            "#d8576b"
                          ],
                          [
                            0.6666666666666666,
                            "#ed7953"
                          ],
                          [
                            0.7777777777777778,
                            "#fb9f3a"
                          ],
                          [
                            0.8888888888888888,
                            "#fdca26"
                          ],
                          [
                            1,
                            "#f0f921"
                          ]
                        ],
                        "type": "histogram2dcontour"
                      }
                    ],
                    "mesh3d": [
                      {
                        "colorbar": {
                          "outlinewidth": 0,
                          "ticks": ""
                        },
                        "type": "mesh3d"
                      }
                    ],
                    "parcoords": [
                      {
                        "line": {
                          "colorbar": {
                            "outlinewidth": 0,
                            "ticks": ""
                          }
                        },
                        "type": "parcoords"
                      }
                    ],
                    "pie": [
                      {
                        "automargin": true,
                        "type": "pie"
                      }
                    ],
                    "scatter": [
                      {
                        "fillpattern": {
                          "fillmode": "overlay",
                          "size": 10,
                          "solidity": 0.2
                        },
                        "type": "scatter"
                      }
                    ],
                    "scatter3d": [
                      {
                        "line": {
                          "colorbar": {
                            "outlinewidth": 0,
                            "ticks": ""
                          }
                        },
                        "marker": {
                          "colorbar": {
                            "outlinewidth": 0,
                            "ticks": ""
                          }
                        },
                        "type": "scatter3d"
                      }
                    ],
                    "scattercarpet": [
                      {
                        "marker": {
                          "colorbar": {
                            "outlinewidth": 0,
                            "ticks": ""
                          }
                        },
                        "type": "scattercarpet"
                      }
                    ],
                    "scattergeo": [
                      {
                        "marker": {
                          "colorbar": {
                            "outlinewidth": 0,
                            "ticks": ""
                          }
                        },
                        "type": "scattergeo"
                      }
                    ],
                    "scattergl": [
                      {
                        "marker": {
                          "colorbar": {
                            "outlinewidth": 0,
                            "ticks": ""
                          }
                        },
                        "type": "scattergl"
                      }
                    ],
                    "scattermapbox": [
                      {
                        "marker": {
                          "colorbar": {
                            "outlinewidth": 0,
                            "ticks": ""
                          }
                        },
                        "type": "scattermapbox"
                      }
                    ],
                    "scatterpolar": [
                      {
                        "marker": {
                          "colorbar": {
                            "outlinewidth": 0,
                            "ticks": ""
                          }
                        },
                        "type": "scatterpolar"
                      }
                    ],
                    "scatterpolargl": [
                      {
                        "marker": {
                          "colorbar": {
                            "outlinewidth": 0,
                            "ticks": ""
                          }
                        },
                        "type": "scatterpolargl"
                      }
                    ],
                    "scatterternary": [
                      {
                        "marker": {
                          "colorbar": {
                            "outlinewidth": 0,
                            "ticks": ""
                          }
                        },
                        "type": "scatterternary"
                      }
                    ],
                    "surface": [
                      {
                        "colorbar": {
                          "outlinewidth": 0,
                          "ticks": ""
                        },
                        "colorscale": [
                          [
                            0,
                            "#0d0887"
                          ],
                          [
                            0.1111111111111111,
                            "#46039f"
                          ],
                          [
                            0.2222222222222222,
                            "#7201a8"
                          ],
                          [
                            0.3333333333333333,
                            "#9c179e"
                          ],
                          [
                            0.4444444444444444,
                            "#bd3786"
                          ],
                          [
                            0.5555555555555556,
                            "#d8576b"
                          ],
                          [
                            0.6666666666666666,
                            "#ed7953"
                          ],
                          [
                            0.7777777777777778,
                            "#fb9f3a"
                          ],
                          [
                            0.8888888888888888,
                            "#fdca26"
                          ],
                          [
                            1,
                            "#f0f921"
                          ]
                        ],
                        "type": "surface"
                      }
                    ],
                    "table": [
                      {
                        "cells": {
                          "fill": {
                            "color": "#EBF0F8"
                          },
                          "line": {
                            "color": "white"
                          }
                        },
                        "header": {
                          "fill": {
                            "color": "#C8D4E3"
                          },
                          "line": {
                            "color": "white"
                          }
                        },
                        "type": "table"
                      }
                    ]
                  },
                  "layout": {
                    "annotationdefaults": {
                      "arrowcolor": "#2a3f5f",
                      "arrowhead": 0,
                      "arrowwidth": 1
                    },
                    "autotypenumbers": "strict",
                    "coloraxis": {
                      "colorbar": {
                        "outlinewidth": 0,
                        "ticks": ""
                      }
                    },
                    "colorscale": {
                      "diverging": [
                        [
                          0,
                          "#8e0152"
                        ],
                        [
                          0.1,
                          "#c51b7d"
                        ],
                        [
                          0.2,
                          "#de77ae"
                        ],
                        [
                          0.3,
                          "#f1b6da"
                        ],
                        [
                          0.4,
                          "#fde0ef"
                        ],
                        [
                          0.5,
                          "#f7f7f7"
                        ],
                        [
                          0.6,
                          "#e6f5d0"
                        ],
                        [
                          0.7,
                          "#b8e186"
                        ],
                        [
                          0.8,
                          "#7fbc41"
                        ],
                        [
                          0.9,
                          "#4d9221"
                        ],
                        [
                          1,
                          "#276419"
                        ]
                      ],
                      "sequential": [
                        [
                          0,
                          "#0d0887"
                        ],
                        [
                          0.1111111111111111,
                          "#46039f"
                        ],
                        [
                          0.2222222222222222,
                          "#7201a8"
                        ],
                        [
                          0.3333333333333333,
                          "#9c179e"
                        ],
                        [
                          0.4444444444444444,
                          "#bd3786"
                        ],
                        [
                          0.5555555555555556,
                          "#d8576b"
                        ],
                        [
                          0.6666666666666666,
                          "#ed7953"
                        ],
                        [
                          0.7777777777777778,
                          "#fb9f3a"
                        ],
                        [
                          0.8888888888888888,
                          "#fdca26"
                        ],
                        [
                          1,
                          "#f0f921"
                        ]
                      ],
                      "sequentialminus": [
                        [
                          0,
                          "#0d0887"
                        ],
                        [
                          0.1111111111111111,
                          "#46039f"
                        ],
                        [
                          0.2222222222222222,
                          "#7201a8"
                        ],
                        [
                          0.3333333333333333,
                          "#9c179e"
                        ],
                        [
                          0.4444444444444444,
                          "#bd3786"
                        ],
                        [
                          0.5555555555555556,
                          "#d8576b"
                        ],
                        [
                          0.6666666666666666,
                          "#ed7953"
                        ],
                        [
                          0.7777777777777778,
                          "#fb9f3a"
                        ],
                        [
                          0.8888888888888888,
                          "#fdca26"
                        ],
                        [
                          1,
                          "#f0f921"
                        ]
                      ]
                    },
                    "colorway": [
                      "#636efa",
                      "#EF553B",
                      "#00cc96",
                      "#ab63fa",
                      "#FFA15A",
                      "#19d3f3",
                      "#FF6692",
                      "#B6E880",
                      "#FF97FF",
                      "#FECB52"
                    ],
                    "font": {
                      "color": "#2a3f5f"
                    },
                    "geo": {
                      "bgcolor": "white",
                      "lakecolor": "white",
                      "landcolor": "#E5ECF6",
                      "showlakes": true,
                      "showland": true,
                      "subunitcolor": "white"
                    },
                    "hoverlabel": {
                      "align": "left"
                    },
                    "hovermode": "closest",
                    "mapbox": {
                      "style": "light"
                    },
                    "paper_bgcolor": "white",
                    "plot_bgcolor": "#E5ECF6",
                    "polar": {
                      "angularaxis": {
                        "gridcolor": "white",
                        "linecolor": "white",
                        "ticks": ""
                      },
                      "bgcolor": "#E5ECF6",
                      "radialaxis": {
                        "gridcolor": "white",
                        "linecolor": "white",
                        "ticks": ""
                      }
                    },
                    "scene": {
                      "xaxis": {
                        "backgroundcolor": "#E5ECF6",
                        "gridcolor": "white",
                        "gridwidth": 2,
                        "linecolor": "white",
                        "showbackground": true,
                        "ticks": "",
                        "zerolinecolor": "white"
                      },
                      "yaxis": {
                        "backgroundcolor": "#E5ECF6",
                        "gridcolor": "white",
                        "gridwidth": 2,
                        "linecolor": "white",
                        "showbackground": true,
                        "ticks": "",
                        "zerolinecolor": "white"
                      },
                      "zaxis": {
                        "backgroundcolor": "#E5ECF6",
                        "gridcolor": "white",
                        "gridwidth": 2,
                        "linecolor": "white",
                        "showbackground": true,
                        "ticks": "",
                        "zerolinecolor": "white"
                      }
                    },
                    "shapedefaults": {
                      "line": {
                        "color": "#2a3f5f"
                      }
                    },
                    "ternary": {
                      "aaxis": {
                        "gridcolor": "white",
                        "linecolor": "white",
                        "ticks": ""
                      },
                      "baxis": {
                        "gridcolor": "white",
                        "linecolor": "white",
                        "ticks": ""
                      },
                      "bgcolor": "#E5ECF6",
                      "caxis": {
                        "gridcolor": "white",
                        "linecolor": "white",
                        "ticks": ""
                      }
                    },
                    "title": {
                      "x": 0.05
                    },
                    "xaxis": {
                      "automargin": true,
                      "gridcolor": "white",
                      "linecolor": "white",
                      "ticks": "",
                      "title": {
                        "standoff": 15
                      },
                      "zerolinecolor": "white",
                      "zerolinewidth": 2
                    },
                    "yaxis": {
                      "automargin": true,
                      "gridcolor": "white",
                      "linecolor": "white",
                      "ticks": "",
                      "title": {
                        "standoff": 15
                      },
                      "zerolinecolor": "white",
                      "zerolinewidth": 2
                    }
                  }
                },
                "title": {
                  "text": "Top 10 Locations with Highest Average Price per Sq. Ft."
                },
                "xaxis": {
                  "anchor": "y",
                  "domain": [
                    0,
                    1
                  ],
                  "title": {
                    "text": "Location"
                  }
                },
                "yaxis": {
                  "anchor": "x",
                  "domain": [
                    0,
                    1
                  ],
                  "title": {
                    "text": "Average Price per Sq. Ft. (in Lakhs)"
                  }
                }
              }
            }
          },
          "metadata": {},
          "output_type": "display_data"
        }
      ],
      "source": [
        "top_locations = data_from_db.groupby('Location')['Price_per_sqft'].mean().nlargest(10).reset_index()\n",
        "\n",
        "fig2 = px.bar(\n",
        "    top_locations, x='Location', y='Price_per_sqft',\n",
        "    title='Top 10 Locations with Highest Average Price per Sq. Ft.',\n",
        "    labels={'Price_per_sqft': 'Average Price per Sq. Ft. (in Lakhs)', 'Location': 'Location'}\n",
        ")\n",
        "fig2.update_layout(xaxis_title='Location', yaxis_title='Average Price per Sq. Ft. (in Lakhs)')\n",
        "fig2.show()"
      ]
    },
    {
      "cell_type": "code",
      "execution_count": 119,
      "metadata": {},
      "outputs": [
        {
          "name": "stderr",
          "output_type": "stream",
          "text": [
            "/var/folders/h6/5b3yntr53k73ngkclllbcq_40000gn/T/ipykernel_2893/1312845973.py:1: FutureWarning:\n",
            "\n",
            "The default of observed=False is deprecated and will be changed to True in a future version of pandas. Pass observed=False to retain current behavior or observed=True to adopt the future default and silence this warning.\n",
            "\n"
          ]
        },
        {
          "data": {
            "application/vnd.plotly.v1+json": {
              "config": {
                "plotlyServerURL": "https://plot.ly"
              },
              "data": [
                {
                  "alignmentgroup": "True",
                  "hovertemplate": "Type=Apartment<br>Property Status=%{x}<br>Number of Properties=%{y}<extra></extra>",
                  "legendgroup": "Apartment",
                  "marker": {
                    "color": "#636efa",
                    "pattern": {
                      "shape": ""
                    }
                  },
                  "name": "Apartment",
                  "offsetgroup": "Apartment",
                  "orientation": "v",
                  "showlegend": true,
                  "textposition": "auto",
                  "type": "bar",
                  "x": [
                    "Ready to move",
                    "Resale",
                    "Under Construction"
                  ],
                  "xaxis": "x",
                  "y": [
                    404,
                    94,
                    122
                  ],
                  "yaxis": "y"
                },
                {
                  "alignmentgroup": "True",
                  "hovertemplate": "Type=Independent House<br>Property Status=%{x}<br>Number of Properties=%{y}<extra></extra>",
                  "legendgroup": "Independent House",
                  "marker": {
                    "color": "#EF553B",
                    "pattern": {
                      "shape": ""
                    }
                  },
                  "name": "Independent House",
                  "offsetgroup": "Independent House",
                  "orientation": "v",
                  "showlegend": true,
                  "textposition": "auto",
                  "type": "bar",
                  "x": [
                    "Ready to move",
                    "Resale",
                    "Under Construction"
                  ],
                  "xaxis": "x",
                  "y": [
                    205,
                    43,
                    62
                  ],
                  "yaxis": "y"
                },
                {
                  "alignmentgroup": "True",
                  "hovertemplate": "Type=Residential Plot<br>Property Status=%{x}<br>Number of Properties=%{y}<extra></extra>",
                  "legendgroup": "Residential Plot",
                  "marker": {
                    "color": "#00cc96",
                    "pattern": {
                      "shape": ""
                    }
                  },
                  "name": "Residential Plot",
                  "offsetgroup": "Residential Plot",
                  "orientation": "v",
                  "showlegend": true,
                  "textposition": "auto",
                  "type": "bar",
                  "x": [
                    "Ready to move",
                    "Resale",
                    "Under Construction"
                  ],
                  "xaxis": "x",
                  "y": [
                    117,
                    31,
                    38
                  ],
                  "yaxis": "y"
                }
              ],
              "layout": {
                "barmode": "group",
                "legend": {
                  "title": {
                    "text": "Type"
                  },
                  "tracegroupgap": 0
                },
                "template": {
                  "data": {
                    "bar": [
                      {
                        "error_x": {
                          "color": "#2a3f5f"
                        },
                        "error_y": {
                          "color": "#2a3f5f"
                        },
                        "marker": {
                          "line": {
                            "color": "#E5ECF6",
                            "width": 0.5
                          },
                          "pattern": {
                            "fillmode": "overlay",
                            "size": 10,
                            "solidity": 0.2
                          }
                        },
                        "type": "bar"
                      }
                    ],
                    "barpolar": [
                      {
                        "marker": {
                          "line": {
                            "color": "#E5ECF6",
                            "width": 0.5
                          },
                          "pattern": {
                            "fillmode": "overlay",
                            "size": 10,
                            "solidity": 0.2
                          }
                        },
                        "type": "barpolar"
                      }
                    ],
                    "carpet": [
                      {
                        "aaxis": {
                          "endlinecolor": "#2a3f5f",
                          "gridcolor": "white",
                          "linecolor": "white",
                          "minorgridcolor": "white",
                          "startlinecolor": "#2a3f5f"
                        },
                        "baxis": {
                          "endlinecolor": "#2a3f5f",
                          "gridcolor": "white",
                          "linecolor": "white",
                          "minorgridcolor": "white",
                          "startlinecolor": "#2a3f5f"
                        },
                        "type": "carpet"
                      }
                    ],
                    "choropleth": [
                      {
                        "colorbar": {
                          "outlinewidth": 0,
                          "ticks": ""
                        },
                        "type": "choropleth"
                      }
                    ],
                    "contour": [
                      {
                        "colorbar": {
                          "outlinewidth": 0,
                          "ticks": ""
                        },
                        "colorscale": [
                          [
                            0,
                            "#0d0887"
                          ],
                          [
                            0.1111111111111111,
                            "#46039f"
                          ],
                          [
                            0.2222222222222222,
                            "#7201a8"
                          ],
                          [
                            0.3333333333333333,
                            "#9c179e"
                          ],
                          [
                            0.4444444444444444,
                            "#bd3786"
                          ],
                          [
                            0.5555555555555556,
                            "#d8576b"
                          ],
                          [
                            0.6666666666666666,
                            "#ed7953"
                          ],
                          [
                            0.7777777777777778,
                            "#fb9f3a"
                          ],
                          [
                            0.8888888888888888,
                            "#fdca26"
                          ],
                          [
                            1,
                            "#f0f921"
                          ]
                        ],
                        "type": "contour"
                      }
                    ],
                    "contourcarpet": [
                      {
                        "colorbar": {
                          "outlinewidth": 0,
                          "ticks": ""
                        },
                        "type": "contourcarpet"
                      }
                    ],
                    "heatmap": [
                      {
                        "colorbar": {
                          "outlinewidth": 0,
                          "ticks": ""
                        },
                        "colorscale": [
                          [
                            0,
                            "#0d0887"
                          ],
                          [
                            0.1111111111111111,
                            "#46039f"
                          ],
                          [
                            0.2222222222222222,
                            "#7201a8"
                          ],
                          [
                            0.3333333333333333,
                            "#9c179e"
                          ],
                          [
                            0.4444444444444444,
                            "#bd3786"
                          ],
                          [
                            0.5555555555555556,
                            "#d8576b"
                          ],
                          [
                            0.6666666666666666,
                            "#ed7953"
                          ],
                          [
                            0.7777777777777778,
                            "#fb9f3a"
                          ],
                          [
                            0.8888888888888888,
                            "#fdca26"
                          ],
                          [
                            1,
                            "#f0f921"
                          ]
                        ],
                        "type": "heatmap"
                      }
                    ],
                    "heatmapgl": [
                      {
                        "colorbar": {
                          "outlinewidth": 0,
                          "ticks": ""
                        },
                        "colorscale": [
                          [
                            0,
                            "#0d0887"
                          ],
                          [
                            0.1111111111111111,
                            "#46039f"
                          ],
                          [
                            0.2222222222222222,
                            "#7201a8"
                          ],
                          [
                            0.3333333333333333,
                            "#9c179e"
                          ],
                          [
                            0.4444444444444444,
                            "#bd3786"
                          ],
                          [
                            0.5555555555555556,
                            "#d8576b"
                          ],
                          [
                            0.6666666666666666,
                            "#ed7953"
                          ],
                          [
                            0.7777777777777778,
                            "#fb9f3a"
                          ],
                          [
                            0.8888888888888888,
                            "#fdca26"
                          ],
                          [
                            1,
                            "#f0f921"
                          ]
                        ],
                        "type": "heatmapgl"
                      }
                    ],
                    "histogram": [
                      {
                        "marker": {
                          "pattern": {
                            "fillmode": "overlay",
                            "size": 10,
                            "solidity": 0.2
                          }
                        },
                        "type": "histogram"
                      }
                    ],
                    "histogram2d": [
                      {
                        "colorbar": {
                          "outlinewidth": 0,
                          "ticks": ""
                        },
                        "colorscale": [
                          [
                            0,
                            "#0d0887"
                          ],
                          [
                            0.1111111111111111,
                            "#46039f"
                          ],
                          [
                            0.2222222222222222,
                            "#7201a8"
                          ],
                          [
                            0.3333333333333333,
                            "#9c179e"
                          ],
                          [
                            0.4444444444444444,
                            "#bd3786"
                          ],
                          [
                            0.5555555555555556,
                            "#d8576b"
                          ],
                          [
                            0.6666666666666666,
                            "#ed7953"
                          ],
                          [
                            0.7777777777777778,
                            "#fb9f3a"
                          ],
                          [
                            0.8888888888888888,
                            "#fdca26"
                          ],
                          [
                            1,
                            "#f0f921"
                          ]
                        ],
                        "type": "histogram2d"
                      }
                    ],
                    "histogram2dcontour": [
                      {
                        "colorbar": {
                          "outlinewidth": 0,
                          "ticks": ""
                        },
                        "colorscale": [
                          [
                            0,
                            "#0d0887"
                          ],
                          [
                            0.1111111111111111,
                            "#46039f"
                          ],
                          [
                            0.2222222222222222,
                            "#7201a8"
                          ],
                          [
                            0.3333333333333333,
                            "#9c179e"
                          ],
                          [
                            0.4444444444444444,
                            "#bd3786"
                          ],
                          [
                            0.5555555555555556,
                            "#d8576b"
                          ],
                          [
                            0.6666666666666666,
                            "#ed7953"
                          ],
                          [
                            0.7777777777777778,
                            "#fb9f3a"
                          ],
                          [
                            0.8888888888888888,
                            "#fdca26"
                          ],
                          [
                            1,
                            "#f0f921"
                          ]
                        ],
                        "type": "histogram2dcontour"
                      }
                    ],
                    "mesh3d": [
                      {
                        "colorbar": {
                          "outlinewidth": 0,
                          "ticks": ""
                        },
                        "type": "mesh3d"
                      }
                    ],
                    "parcoords": [
                      {
                        "line": {
                          "colorbar": {
                            "outlinewidth": 0,
                            "ticks": ""
                          }
                        },
                        "type": "parcoords"
                      }
                    ],
                    "pie": [
                      {
                        "automargin": true,
                        "type": "pie"
                      }
                    ],
                    "scatter": [
                      {
                        "fillpattern": {
                          "fillmode": "overlay",
                          "size": 10,
                          "solidity": 0.2
                        },
                        "type": "scatter"
                      }
                    ],
                    "scatter3d": [
                      {
                        "line": {
                          "colorbar": {
                            "outlinewidth": 0,
                            "ticks": ""
                          }
                        },
                        "marker": {
                          "colorbar": {
                            "outlinewidth": 0,
                            "ticks": ""
                          }
                        },
                        "type": "scatter3d"
                      }
                    ],
                    "scattercarpet": [
                      {
                        "marker": {
                          "colorbar": {
                            "outlinewidth": 0,
                            "ticks": ""
                          }
                        },
                        "type": "scattercarpet"
                      }
                    ],
                    "scattergeo": [
                      {
                        "marker": {
                          "colorbar": {
                            "outlinewidth": 0,
                            "ticks": ""
                          }
                        },
                        "type": "scattergeo"
                      }
                    ],
                    "scattergl": [
                      {
                        "marker": {
                          "colorbar": {
                            "outlinewidth": 0,
                            "ticks": ""
                          }
                        },
                        "type": "scattergl"
                      }
                    ],
                    "scattermapbox": [
                      {
                        "marker": {
                          "colorbar": {
                            "outlinewidth": 0,
                            "ticks": ""
                          }
                        },
                        "type": "scattermapbox"
                      }
                    ],
                    "scatterpolar": [
                      {
                        "marker": {
                          "colorbar": {
                            "outlinewidth": 0,
                            "ticks": ""
                          }
                        },
                        "type": "scatterpolar"
                      }
                    ],
                    "scatterpolargl": [
                      {
                        "marker": {
                          "colorbar": {
                            "outlinewidth": 0,
                            "ticks": ""
                          }
                        },
                        "type": "scatterpolargl"
                      }
                    ],
                    "scatterternary": [
                      {
                        "marker": {
                          "colorbar": {
                            "outlinewidth": 0,
                            "ticks": ""
                          }
                        },
                        "type": "scatterternary"
                      }
                    ],
                    "surface": [
                      {
                        "colorbar": {
                          "outlinewidth": 0,
                          "ticks": ""
                        },
                        "colorscale": [
                          [
                            0,
                            "#0d0887"
                          ],
                          [
                            0.1111111111111111,
                            "#46039f"
                          ],
                          [
                            0.2222222222222222,
                            "#7201a8"
                          ],
                          [
                            0.3333333333333333,
                            "#9c179e"
                          ],
                          [
                            0.4444444444444444,
                            "#bd3786"
                          ],
                          [
                            0.5555555555555556,
                            "#d8576b"
                          ],
                          [
                            0.6666666666666666,
                            "#ed7953"
                          ],
                          [
                            0.7777777777777778,
                            "#fb9f3a"
                          ],
                          [
                            0.8888888888888888,
                            "#fdca26"
                          ],
                          [
                            1,
                            "#f0f921"
                          ]
                        ],
                        "type": "surface"
                      }
                    ],
                    "table": [
                      {
                        "cells": {
                          "fill": {
                            "color": "#EBF0F8"
                          },
                          "line": {
                            "color": "white"
                          }
                        },
                        "header": {
                          "fill": {
                            "color": "#C8D4E3"
                          },
                          "line": {
                            "color": "white"
                          }
                        },
                        "type": "table"
                      }
                    ]
                  },
                  "layout": {
                    "annotationdefaults": {
                      "arrowcolor": "#2a3f5f",
                      "arrowhead": 0,
                      "arrowwidth": 1
                    },
                    "autotypenumbers": "strict",
                    "coloraxis": {
                      "colorbar": {
                        "outlinewidth": 0,
                        "ticks": ""
                      }
                    },
                    "colorscale": {
                      "diverging": [
                        [
                          0,
                          "#8e0152"
                        ],
                        [
                          0.1,
                          "#c51b7d"
                        ],
                        [
                          0.2,
                          "#de77ae"
                        ],
                        [
                          0.3,
                          "#f1b6da"
                        ],
                        [
                          0.4,
                          "#fde0ef"
                        ],
                        [
                          0.5,
                          "#f7f7f7"
                        ],
                        [
                          0.6,
                          "#e6f5d0"
                        ],
                        [
                          0.7,
                          "#b8e186"
                        ],
                        [
                          0.8,
                          "#7fbc41"
                        ],
                        [
                          0.9,
                          "#4d9221"
                        ],
                        [
                          1,
                          "#276419"
                        ]
                      ],
                      "sequential": [
                        [
                          0,
                          "#0d0887"
                        ],
                        [
                          0.1111111111111111,
                          "#46039f"
                        ],
                        [
                          0.2222222222222222,
                          "#7201a8"
                        ],
                        [
                          0.3333333333333333,
                          "#9c179e"
                        ],
                        [
                          0.4444444444444444,
                          "#bd3786"
                        ],
                        [
                          0.5555555555555556,
                          "#d8576b"
                        ],
                        [
                          0.6666666666666666,
                          "#ed7953"
                        ],
                        [
                          0.7777777777777778,
                          "#fb9f3a"
                        ],
                        [
                          0.8888888888888888,
                          "#fdca26"
                        ],
                        [
                          1,
                          "#f0f921"
                        ]
                      ],
                      "sequentialminus": [
                        [
                          0,
                          "#0d0887"
                        ],
                        [
                          0.1111111111111111,
                          "#46039f"
                        ],
                        [
                          0.2222222222222222,
                          "#7201a8"
                        ],
                        [
                          0.3333333333333333,
                          "#9c179e"
                        ],
                        [
                          0.4444444444444444,
                          "#bd3786"
                        ],
                        [
                          0.5555555555555556,
                          "#d8576b"
                        ],
                        [
                          0.6666666666666666,
                          "#ed7953"
                        ],
                        [
                          0.7777777777777778,
                          "#fb9f3a"
                        ],
                        [
                          0.8888888888888888,
                          "#fdca26"
                        ],
                        [
                          1,
                          "#f0f921"
                        ]
                      ]
                    },
                    "colorway": [
                      "#636efa",
                      "#EF553B",
                      "#00cc96",
                      "#ab63fa",
                      "#FFA15A",
                      "#19d3f3",
                      "#FF6692",
                      "#B6E880",
                      "#FF97FF",
                      "#FECB52"
                    ],
                    "font": {
                      "color": "#2a3f5f"
                    },
                    "geo": {
                      "bgcolor": "white",
                      "lakecolor": "white",
                      "landcolor": "#E5ECF6",
                      "showlakes": true,
                      "showland": true,
                      "subunitcolor": "white"
                    },
                    "hoverlabel": {
                      "align": "left"
                    },
                    "hovermode": "closest",
                    "mapbox": {
                      "style": "light"
                    },
                    "paper_bgcolor": "white",
                    "plot_bgcolor": "#E5ECF6",
                    "polar": {
                      "angularaxis": {
                        "gridcolor": "white",
                        "linecolor": "white",
                        "ticks": ""
                      },
                      "bgcolor": "#E5ECF6",
                      "radialaxis": {
                        "gridcolor": "white",
                        "linecolor": "white",
                        "ticks": ""
                      }
                    },
                    "scene": {
                      "xaxis": {
                        "backgroundcolor": "#E5ECF6",
                        "gridcolor": "white",
                        "gridwidth": 2,
                        "linecolor": "white",
                        "showbackground": true,
                        "ticks": "",
                        "zerolinecolor": "white"
                      },
                      "yaxis": {
                        "backgroundcolor": "#E5ECF6",
                        "gridcolor": "white",
                        "gridwidth": 2,
                        "linecolor": "white",
                        "showbackground": true,
                        "ticks": "",
                        "zerolinecolor": "white"
                      },
                      "zaxis": {
                        "backgroundcolor": "#E5ECF6",
                        "gridcolor": "white",
                        "gridwidth": 2,
                        "linecolor": "white",
                        "showbackground": true,
                        "ticks": "",
                        "zerolinecolor": "white"
                      }
                    },
                    "shapedefaults": {
                      "line": {
                        "color": "#2a3f5f"
                      }
                    },
                    "ternary": {
                      "aaxis": {
                        "gridcolor": "white",
                        "linecolor": "white",
                        "ticks": ""
                      },
                      "baxis": {
                        "gridcolor": "white",
                        "linecolor": "white",
                        "ticks": ""
                      },
                      "bgcolor": "#E5ECF6",
                      "caxis": {
                        "gridcolor": "white",
                        "linecolor": "white",
                        "ticks": ""
                      }
                    },
                    "title": {
                      "x": 0.05
                    },
                    "xaxis": {
                      "automargin": true,
                      "gridcolor": "white",
                      "linecolor": "white",
                      "ticks": "",
                      "title": {
                        "standoff": 15
                      },
                      "zerolinecolor": "white",
                      "zerolinewidth": 2
                    },
                    "yaxis": {
                      "automargin": true,
                      "gridcolor": "white",
                      "linecolor": "white",
                      "ticks": "",
                      "title": {
                        "standoff": 15
                      },
                      "zerolinecolor": "white",
                      "zerolinewidth": 2
                    }
                  }
                },
                "title": {
                  "text": "Property Count by Status and Type"
                },
                "xaxis": {
                  "anchor": "y",
                  "domain": [
                    0,
                    1
                  ],
                  "title": {
                    "text": "Property Status"
                  }
                },
                "yaxis": {
                  "anchor": "x",
                  "domain": [
                    0,
                    1
                  ],
                  "title": {
                    "text": "Count"
                  }
                }
              }
            }
          },
          "metadata": {},
          "output_type": "display_data"
        }
      ],
      "source": [
        "status_type_counts = data_from_db.groupby(['Status', 'Type']).size().reset_index(name='Count')\n",
        "\n",
        "fig3 = px.bar(\n",
        "    status_type_counts, x='Status', y='Count', color='Type', barmode='group',\n",
        "    title='Property Count by Status and Type',\n",
        "    labels={'Status': 'Property Status', 'Count': 'Number of Properties'}\n",
        ")\n",
        "fig3.update_layout(xaxis_title='Property Status', yaxis_title='Count')\n",
        "fig3.show()"
      ]
    },
    {
      "cell_type": "code",
      "execution_count": 90,
      "metadata": {},
      "outputs": [],
      "source": [
        "data_from_db.to_csv('data/Final_Processed_House_Data.csv', index=False)"
      ]
    },
    {
      "cell_type": "code",
      "execution_count": 92,
      "metadata": {},
      "outputs": [
        {
          "data": {
            "text/html": [
              "<div>\n",
              "<style scoped>\n",
              "    .dataframe tbody tr th:only-of-type {\n",
              "        vertical-align: middle;\n",
              "    }\n",
              "\n",
              "    .dataframe tbody tr th {\n",
              "        vertical-align: top;\n",
              "    }\n",
              "\n",
              "    .dataframe thead th {\n",
              "        text-align: right;\n",
              "    }\n",
              "</style>\n",
              "<table border=\"1\" class=\"dataframe\">\n",
              "  <thead>\n",
              "    <tr style=\"text-align: right;\">\n",
              "      <th></th>\n",
              "      <th>Bedroom</th>\n",
              "      <th>Bathroom</th>\n",
              "      <th>Location</th>\n",
              "      <th>Size</th>\n",
              "      <th>Status</th>\n",
              "      <th>Facing</th>\n",
              "      <th>Type</th>\n",
              "      <th>Price</th>\n",
              "      <th>Price_per_sqft</th>\n",
              "    </tr>\n",
              "  </thead>\n",
              "  <tbody>\n",
              "    <tr>\n",
              "      <th>0</th>\n",
              "      <td>3</td>\n",
              "      <td>3</td>\n",
              "      <td>Poranki</td>\n",
              "      <td>1587</td>\n",
              "      <td>Ready to move</td>\n",
              "      <td>West</td>\n",
              "      <td>Apartment</td>\n",
              "      <td>5550000.0</td>\n",
              "      <td>3497.164461</td>\n",
              "    </tr>\n",
              "    <tr>\n",
              "      <th>1</th>\n",
              "      <td>2</td>\n",
              "      <td>2</td>\n",
              "      <td>Poranki</td>\n",
              "      <td>1450</td>\n",
              "      <td>Ready to move</td>\n",
              "      <td>0</td>\n",
              "      <td>Apartment</td>\n",
              "      <td>4800000.0</td>\n",
              "      <td>3310.344828</td>\n",
              "    </tr>\n",
              "    <tr>\n",
              "      <th>2</th>\n",
              "      <td>2</td>\n",
              "      <td>2</td>\n",
              "      <td>Kankipadu</td>\n",
              "      <td>1290</td>\n",
              "      <td>Under Construction</td>\n",
              "      <td>NorthEast</td>\n",
              "      <td>Independent House</td>\n",
              "      <td>5000000.0</td>\n",
              "      <td>3875.968992</td>\n",
              "    </tr>\n",
              "    <tr>\n",
              "      <th>3</th>\n",
              "      <td>2</td>\n",
              "      <td>4</td>\n",
              "      <td>PNT Colony</td>\n",
              "      <td>1400</td>\n",
              "      <td>Ready to move</td>\n",
              "      <td>0</td>\n",
              "      <td>Independent House</td>\n",
              "      <td>7200000.0</td>\n",
              "      <td>5142.857143</td>\n",
              "    </tr>\n",
              "    <tr>\n",
              "      <th>4</th>\n",
              "      <td>2</td>\n",
              "      <td>2</td>\n",
              "      <td>Labbipet</td>\n",
              "      <td>950</td>\n",
              "      <td>Ready to move</td>\n",
              "      <td>East</td>\n",
              "      <td>Apartment</td>\n",
              "      <td>6000000.0</td>\n",
              "      <td>6315.789474</td>\n",
              "    </tr>\n",
              "    <tr>\n",
              "      <th>...</th>\n",
              "      <td>...</td>\n",
              "      <td>...</td>\n",
              "      <td>...</td>\n",
              "      <td>...</td>\n",
              "      <td>...</td>\n",
              "      <td>...</td>\n",
              "      <td>...</td>\n",
              "      <td>...</td>\n",
              "      <td>...</td>\n",
              "    </tr>\n",
              "    <tr>\n",
              "      <th>1111</th>\n",
              "      <td>3</td>\n",
              "      <td>3</td>\n",
              "      <td>Vidhyadharpuram</td>\n",
              "      <td>1600</td>\n",
              "      <td>Under Construction</td>\n",
              "      <td>West</td>\n",
              "      <td>Residential Plot</td>\n",
              "      <td>9500000.0</td>\n",
              "      <td>5937.500000</td>\n",
              "    </tr>\n",
              "    <tr>\n",
              "      <th>1112</th>\n",
              "      <td>6</td>\n",
              "      <td>7</td>\n",
              "      <td>Penamaluru</td>\n",
              "      <td>3700</td>\n",
              "      <td>Ready to move</td>\n",
              "      <td>0</td>\n",
              "      <td>Apartment</td>\n",
              "      <td>11000000.0</td>\n",
              "      <td>2972.972973</td>\n",
              "    </tr>\n",
              "    <tr>\n",
              "      <th>1113</th>\n",
              "      <td>0</td>\n",
              "      <td>0</td>\n",
              "      <td>Kankipadu</td>\n",
              "      <td>1782</td>\n",
              "      <td>Resale</td>\n",
              "      <td>0</td>\n",
              "      <td>Apartment</td>\n",
              "      <td>1683000.0</td>\n",
              "      <td>944.444444</td>\n",
              "    </tr>\n",
              "    <tr>\n",
              "      <th>1114</th>\n",
              "      <td>0</td>\n",
              "      <td>0</td>\n",
              "      <td>Poranki</td>\n",
              "      <td>1800</td>\n",
              "      <td>Resale</td>\n",
              "      <td>West</td>\n",
              "      <td>Independent House</td>\n",
              "      <td>3300000.0</td>\n",
              "      <td>1833.333333</td>\n",
              "    </tr>\n",
              "    <tr>\n",
              "      <th>1115</th>\n",
              "      <td>0</td>\n",
              "      <td>0</td>\n",
              "      <td>Kankipadu</td>\n",
              "      <td>1500</td>\n",
              "      <td>Resale</td>\n",
              "      <td>0</td>\n",
              "      <td>Apartment</td>\n",
              "      <td>2000000.0</td>\n",
              "      <td>1333.333333</td>\n",
              "    </tr>\n",
              "  </tbody>\n",
              "</table>\n",
              "<p>1116 rows × 9 columns</p>\n",
              "</div>"
            ],
            "text/plain": [
              "      Bedroom  Bathroom         Location  Size              Status     Facing  \\\n",
              "0           3         3          Poranki  1587       Ready to move       West   \n",
              "1           2         2          Poranki  1450       Ready to move          0   \n",
              "2           2         2        Kankipadu  1290  Under Construction  NorthEast   \n",
              "3           2         4       PNT Colony  1400       Ready to move          0   \n",
              "4           2         2         Labbipet   950       Ready to move       East   \n",
              "...       ...       ...              ...   ...                 ...        ...   \n",
              "1111        3         3  Vidhyadharpuram  1600  Under Construction       West   \n",
              "1112        6         7       Penamaluru  3700       Ready to move          0   \n",
              "1113        0         0        Kankipadu  1782              Resale          0   \n",
              "1114        0         0          Poranki  1800              Resale       West   \n",
              "1115        0         0        Kankipadu  1500              Resale          0   \n",
              "\n",
              "                   Type       Price  Price_per_sqft  \n",
              "0             Apartment   5550000.0     3497.164461  \n",
              "1             Apartment   4800000.0     3310.344828  \n",
              "2     Independent House   5000000.0     3875.968992  \n",
              "3     Independent House   7200000.0     5142.857143  \n",
              "4             Apartment   6000000.0     6315.789474  \n",
              "...                 ...         ...             ...  \n",
              "1111   Residential Plot   9500000.0     5937.500000  \n",
              "1112          Apartment  11000000.0     2972.972973  \n",
              "1113          Apartment   1683000.0      944.444444  \n",
              "1114  Independent House   3300000.0     1833.333333  \n",
              "1115          Apartment   2000000.0     1333.333333  \n",
              "\n",
              "[1116 rows x 9 columns]"
            ]
          },
          "execution_count": 92,
          "metadata": {},
          "output_type": "execute_result"
        }
      ],
      "source": [
        "data = data_from_db.copy()\n",
        "\n",
        "data"
      ]
    },
    {
      "cell_type": "code",
      "execution_count": 101,
      "metadata": {},
      "outputs": [
        {
          "name": "stdout",
          "output_type": "stream",
          "text": [
            "<class 'pandas.core.frame.DataFrame'>\n",
            "RangeIndex: 1116 entries, 0 to 1115\n",
            "Data columns (total 9 columns):\n",
            " #   Column          Non-Null Count  Dtype   \n",
            "---  ------          --------------  -----   \n",
            " 0   Bedroom         1116 non-null   int64   \n",
            " 1   Bathroom        1116 non-null   int64   \n",
            " 2   Location        1116 non-null   category\n",
            " 3   Size            1116 non-null   int64   \n",
            " 4   Status          1116 non-null   category\n",
            " 5   Facing          1116 non-null   category\n",
            " 6   Type            1116 non-null   category\n",
            " 7   Price           1116 non-null   float64 \n",
            " 8   Price_per_sqft  1116 non-null   float64 \n",
            "dtypes: category(4), float64(2), int64(3)\n",
            "memory usage: 48.9 KB\n"
          ]
        }
      ],
      "source": [
        "data.info()"
      ]
    },
    {
      "cell_type": "code",
      "execution_count": 102,
      "metadata": {},
      "outputs": [],
      "source": [
        "from sklearn.preprocessing import LabelEncoder\n",
        "\n",
        "encoder = LabelEncoder()"
      ]
    },
    {
      "cell_type": "code",
      "execution_count": 103,
      "metadata": {},
      "outputs": [],
      "source": [
        "for col in data.columns:\n",
        "    if data[col].dtype.name == 'category':\n",
        "        data[col] = encoder.fit_transform(data[col])"
      ]
    },
    {
      "cell_type": "code",
      "execution_count": 104,
      "metadata": {},
      "outputs": [
        {
          "data": {
            "text/html": [
              "<div>\n",
              "<style scoped>\n",
              "    .dataframe tbody tr th:only-of-type {\n",
              "        vertical-align: middle;\n",
              "    }\n",
              "\n",
              "    .dataframe tbody tr th {\n",
              "        vertical-align: top;\n",
              "    }\n",
              "\n",
              "    .dataframe thead th {\n",
              "        text-align: right;\n",
              "    }\n",
              "</style>\n",
              "<table border=\"1\" class=\"dataframe\">\n",
              "  <thead>\n",
              "    <tr style=\"text-align: right;\">\n",
              "      <th></th>\n",
              "      <th>Bedroom</th>\n",
              "      <th>Bathroom</th>\n",
              "      <th>Location</th>\n",
              "      <th>Size</th>\n",
              "      <th>Status</th>\n",
              "      <th>Facing</th>\n",
              "      <th>Type</th>\n",
              "      <th>Price</th>\n",
              "      <th>Price_per_sqft</th>\n",
              "    </tr>\n",
              "  </thead>\n",
              "  <tbody>\n",
              "    <tr>\n",
              "      <th>0</th>\n",
              "      <td>3</td>\n",
              "      <td>3</td>\n",
              "      <td>10</td>\n",
              "      <td>1587</td>\n",
              "      <td>0</td>\n",
              "      <td>3</td>\n",
              "      <td>0</td>\n",
              "      <td>5550000.0</td>\n",
              "      <td>3497.164461</td>\n",
              "    </tr>\n",
              "    <tr>\n",
              "      <th>1</th>\n",
              "      <td>2</td>\n",
              "      <td>2</td>\n",
              "      <td>10</td>\n",
              "      <td>1450</td>\n",
              "      <td>0</td>\n",
              "      <td>0</td>\n",
              "      <td>0</td>\n",
              "      <td>4800000.0</td>\n",
              "      <td>3310.344828</td>\n",
              "    </tr>\n",
              "    <tr>\n",
              "      <th>2</th>\n",
              "      <td>2</td>\n",
              "      <td>2</td>\n",
              "      <td>5</td>\n",
              "      <td>1290</td>\n",
              "      <td>2</td>\n",
              "      <td>2</td>\n",
              "      <td>1</td>\n",
              "      <td>5000000.0</td>\n",
              "      <td>3875.968992</td>\n",
              "    </tr>\n",
              "    <tr>\n",
              "      <th>3</th>\n",
              "      <td>2</td>\n",
              "      <td>4</td>\n",
              "      <td>7</td>\n",
              "      <td>1400</td>\n",
              "      <td>0</td>\n",
              "      <td>0</td>\n",
              "      <td>1</td>\n",
              "      <td>7200000.0</td>\n",
              "      <td>5142.857143</td>\n",
              "    </tr>\n",
              "    <tr>\n",
              "      <th>4</th>\n",
              "      <td>2</td>\n",
              "      <td>2</td>\n",
              "      <td>6</td>\n",
              "      <td>950</td>\n",
              "      <td>0</td>\n",
              "      <td>1</td>\n",
              "      <td>0</td>\n",
              "      <td>6000000.0</td>\n",
              "      <td>6315.789474</td>\n",
              "    </tr>\n",
              "    <tr>\n",
              "      <th>...</th>\n",
              "      <td>...</td>\n",
              "      <td>...</td>\n",
              "      <td>...</td>\n",
              "      <td>...</td>\n",
              "      <td>...</td>\n",
              "      <td>...</td>\n",
              "      <td>...</td>\n",
              "      <td>...</td>\n",
              "      <td>...</td>\n",
              "    </tr>\n",
              "    <tr>\n",
              "      <th>1111</th>\n",
              "      <td>3</td>\n",
              "      <td>3</td>\n",
              "      <td>11</td>\n",
              "      <td>1600</td>\n",
              "      <td>2</td>\n",
              "      <td>3</td>\n",
              "      <td>2</td>\n",
              "      <td>9500000.0</td>\n",
              "      <td>5937.500000</td>\n",
              "    </tr>\n",
              "    <tr>\n",
              "      <th>1112</th>\n",
              "      <td>6</td>\n",
              "      <td>7</td>\n",
              "      <td>9</td>\n",
              "      <td>3700</td>\n",
              "      <td>0</td>\n",
              "      <td>0</td>\n",
              "      <td>0</td>\n",
              "      <td>11000000.0</td>\n",
              "      <td>2972.972973</td>\n",
              "    </tr>\n",
              "    <tr>\n",
              "      <th>1113</th>\n",
              "      <td>0</td>\n",
              "      <td>0</td>\n",
              "      <td>5</td>\n",
              "      <td>1782</td>\n",
              "      <td>1</td>\n",
              "      <td>0</td>\n",
              "      <td>0</td>\n",
              "      <td>1683000.0</td>\n",
              "      <td>944.444444</td>\n",
              "    </tr>\n",
              "    <tr>\n",
              "      <th>1114</th>\n",
              "      <td>0</td>\n",
              "      <td>0</td>\n",
              "      <td>10</td>\n",
              "      <td>1800</td>\n",
              "      <td>1</td>\n",
              "      <td>3</td>\n",
              "      <td>1</td>\n",
              "      <td>3300000.0</td>\n",
              "      <td>1833.333333</td>\n",
              "    </tr>\n",
              "    <tr>\n",
              "      <th>1115</th>\n",
              "      <td>0</td>\n",
              "      <td>0</td>\n",
              "      <td>5</td>\n",
              "      <td>1500</td>\n",
              "      <td>1</td>\n",
              "      <td>0</td>\n",
              "      <td>0</td>\n",
              "      <td>2000000.0</td>\n",
              "      <td>1333.333333</td>\n",
              "    </tr>\n",
              "  </tbody>\n",
              "</table>\n",
              "<p>1116 rows × 9 columns</p>\n",
              "</div>"
            ],
            "text/plain": [
              "      Bedroom  Bathroom  Location  Size  Status  Facing  Type       Price  \\\n",
              "0           3         3        10  1587       0       3     0   5550000.0   \n",
              "1           2         2        10  1450       0       0     0   4800000.0   \n",
              "2           2         2         5  1290       2       2     1   5000000.0   \n",
              "3           2         4         7  1400       0       0     1   7200000.0   \n",
              "4           2         2         6   950       0       1     0   6000000.0   \n",
              "...       ...       ...       ...   ...     ...     ...   ...         ...   \n",
              "1111        3         3        11  1600       2       3     2   9500000.0   \n",
              "1112        6         7         9  3700       0       0     0  11000000.0   \n",
              "1113        0         0         5  1782       1       0     0   1683000.0   \n",
              "1114        0         0        10  1800       1       3     1   3300000.0   \n",
              "1115        0         0         5  1500       1       0     0   2000000.0   \n",
              "\n",
              "      Price_per_sqft  \n",
              "0        3497.164461  \n",
              "1        3310.344828  \n",
              "2        3875.968992  \n",
              "3        5142.857143  \n",
              "4        6315.789474  \n",
              "...              ...  \n",
              "1111     5937.500000  \n",
              "1112     2972.972973  \n",
              "1113      944.444444  \n",
              "1114     1833.333333  \n",
              "1115     1333.333333  \n",
              "\n",
              "[1116 rows x 9 columns]"
            ]
          },
          "execution_count": 104,
          "metadata": {},
          "output_type": "execute_result"
        }
      ],
      "source": [
        "data"
      ]
    },
    {
      "cell_type": "code",
      "execution_count": 122,
      "metadata": {},
      "outputs": [],
      "source": [
        "X = data.drop('Price', axis=1)\n",
        "y = data['Price']"
      ]
    },
    {
      "cell_type": "code",
      "execution_count": 123,
      "metadata": {},
      "outputs": [],
      "source": [
        "from sklearn.model_selection import train_test_split\n",
        "\n",
        "X_train, X_test, y_train, y_test = train_test_split(X, y, test_size=0.2, random_state=42)"
      ]
    },
    {
      "cell_type": "code",
      "execution_count": 124,
      "metadata": {},
      "outputs": [],
      "source": [
        "from sklearn.preprocessing import StandardScaler\n",
        "\n",
        "scaler = StandardScaler() "
      ]
    },
    {
      "cell_type": "code",
      "execution_count": 125,
      "metadata": {},
      "outputs": [],
      "source": [
        "X_train_scaled = scaler.fit_transform(X_train)\n",
        "X_test_scaled = scaler.transform(X_test)"
      ]
    },
    {
      "cell_type": "code",
      "execution_count": 126,
      "metadata": {},
      "outputs": [],
      "source": [
        "from sklearn.linear_model import LinearRegression\n",
        "from sklearn.ensemble import RandomForestRegressor\n",
        "from sklearn.svm import SVR\n",
        "from sklearn.tree import DecisionTreeRegressor\n",
        "from xgboost import XGBRegressor"
      ]
    },
    {
      "cell_type": "code",
      "execution_count": 127,
      "metadata": {},
      "outputs": [],
      "source": [
        "models = {\n",
        "    'Linear Regression': LinearRegression(),\n",
        "    'Random Forest': RandomForestRegressor(n_estimators=100, random_state=42),\n",
        "    'Support Vector Regressor': SVR(kernel='rbf'),\n",
        "    'Decision Tree': DecisionTreeRegressor(random_state=42),\n",
        "    'XGBoost Regressor': XGBRegressor(n_estimators=100, random_state=42)\n",
        "}"
      ]
    },
    {
      "cell_type": "code",
      "execution_count": 128,
      "metadata": {},
      "outputs": [],
      "source": [
        "from sklearn.metrics import mean_absolute_error, mean_squared_error, r2_score, mean_absolute_percentage_error\n",
        "import numpy as np"
      ]
    },
    {
      "cell_type": "code",
      "execution_count": 129,
      "metadata": {},
      "outputs": [],
      "source": [
        "evaluation_results = []\n",
        "\n",
        "for model_name, model in models.items():\n",
        "\n",
        "    model.fit(X_train_scaled, y_train)\n",
        "\n",
        "    y_pred = model.predict(X_test_scaled)\n",
        "    \n",
        "    mse = mean_squared_error(y_test, y_pred)\n",
        "    mae = mean_absolute_error(y_test, y_pred)\n",
        "    rmse = np.sqrt(mse)\n",
        "    r2 = r2_score(y_test, y_pred)\n",
        "    mape = mean_absolute_percentage_error(y_test, y_pred)\n",
        "    \n",
        "    evaluation_results.append({\n",
        "        'Model': model_name,\n",
        "        'MSE': mse,\n",
        "        'MAE': mae,\n",
        "        'RMSE': rmse,\n",
        "        'R²': r2,\n",
        "        'MAPE (%)': mape\n",
        "    })"
      ]
    },
    {
      "cell_type": "code",
      "execution_count": 130,
      "metadata": {},
      "outputs": [
        {
          "data": {
            "text/plain": [
              "[{'Model': 'Linear Regression',\n",
              "  'MSE': 387808764217.4666,\n",
              "  'MAE': 502995.09824256226,\n",
              "  'RMSE': 622742.935903304,\n",
              "  'R²': 0.9744719791396127,\n",
              "  'MAPE (%)': 0.09817688513022615},\n",
              " {'Model': 'Random Forest',\n",
              "  'MSE': 0.0,\n",
              "  'MAE': 0.0,\n",
              "  'RMSE': 0.0,\n",
              "  'R²': 1.0,\n",
              "  'MAPE (%)': 0.0},\n",
              " {'Model': 'Support Vector Regressor',\n",
              "  'MSE': 16741863830790.27,\n",
              "  'MAE': 2695887.6685476922,\n",
              "  'RMSE': 4091682.2739296695,\n",
              "  'R²': -0.10205515849176816,\n",
              "  'MAPE (%)': 0.46388126228564036},\n",
              " {'Model': 'Decision Tree',\n",
              "  'MSE': 0.0,\n",
              "  'MAE': 0.0,\n",
              "  'RMSE': 0.0,\n",
              "  'R²': 1.0,\n",
              "  'MAPE (%)': 0.0},\n",
              " {'Model': 'XGBoost Regressor',\n",
              "  'MSE': 0.36893136160714285,\n",
              "  'MAE': 0.49051339285714285,\n",
              "  'RMSE': 0.6073972025019072,\n",
              "  'R²': 0.9999999999999757,\n",
              "  'MAPE (%)': 6.819955924005503e-08}]"
            ]
          },
          "execution_count": 130,
          "metadata": {},
          "output_type": "execute_result"
        }
      ],
      "source": [
        "evaluation_results"
      ]
    },
    {
      "cell_type": "code",
      "execution_count": 131,
      "metadata": {},
      "outputs": [
        {
          "data": {
            "text/html": [
              "<div>\n",
              "<style scoped>\n",
              "    .dataframe tbody tr th:only-of-type {\n",
              "        vertical-align: middle;\n",
              "    }\n",
              "\n",
              "    .dataframe tbody tr th {\n",
              "        vertical-align: top;\n",
              "    }\n",
              "\n",
              "    .dataframe thead th {\n",
              "        text-align: right;\n",
              "    }\n",
              "</style>\n",
              "<table border=\"1\" class=\"dataframe\">\n",
              "  <thead>\n",
              "    <tr style=\"text-align: right;\">\n",
              "      <th></th>\n",
              "      <th>Model</th>\n",
              "      <th>MSE</th>\n",
              "      <th>MAE</th>\n",
              "      <th>RMSE</th>\n",
              "      <th>R²</th>\n",
              "      <th>MAPE (%)</th>\n",
              "    </tr>\n",
              "  </thead>\n",
              "  <tbody>\n",
              "    <tr>\n",
              "      <th>0</th>\n",
              "      <td>Linear Regression</td>\n",
              "      <td>3.878088e+11</td>\n",
              "      <td>5.029951e+05</td>\n",
              "      <td>6.227429e+05</td>\n",
              "      <td>0.974472</td>\n",
              "      <td>9.817689e-02</td>\n",
              "    </tr>\n",
              "    <tr>\n",
              "      <th>1</th>\n",
              "      <td>Random Forest</td>\n",
              "      <td>0.000000e+00</td>\n",
              "      <td>0.000000e+00</td>\n",
              "      <td>0.000000e+00</td>\n",
              "      <td>1.000000</td>\n",
              "      <td>0.000000e+00</td>\n",
              "    </tr>\n",
              "    <tr>\n",
              "      <th>2</th>\n",
              "      <td>Support Vector Regressor</td>\n",
              "      <td>1.674186e+13</td>\n",
              "      <td>2.695888e+06</td>\n",
              "      <td>4.091682e+06</td>\n",
              "      <td>-0.102055</td>\n",
              "      <td>4.638813e-01</td>\n",
              "    </tr>\n",
              "    <tr>\n",
              "      <th>3</th>\n",
              "      <td>Decision Tree</td>\n",
              "      <td>0.000000e+00</td>\n",
              "      <td>0.000000e+00</td>\n",
              "      <td>0.000000e+00</td>\n",
              "      <td>1.000000</td>\n",
              "      <td>0.000000e+00</td>\n",
              "    </tr>\n",
              "    <tr>\n",
              "      <th>4</th>\n",
              "      <td>XGBoost Regressor</td>\n",
              "      <td>3.689314e-01</td>\n",
              "      <td>4.905134e-01</td>\n",
              "      <td>6.073972e-01</td>\n",
              "      <td>1.000000</td>\n",
              "      <td>6.819956e-08</td>\n",
              "    </tr>\n",
              "  </tbody>\n",
              "</table>\n",
              "</div>"
            ],
            "text/plain": [
              "                      Model           MSE           MAE          RMSE  \\\n",
              "0         Linear Regression  3.878088e+11  5.029951e+05  6.227429e+05   \n",
              "1             Random Forest  0.000000e+00  0.000000e+00  0.000000e+00   \n",
              "2  Support Vector Regressor  1.674186e+13  2.695888e+06  4.091682e+06   \n",
              "3             Decision Tree  0.000000e+00  0.000000e+00  0.000000e+00   \n",
              "4         XGBoost Regressor  3.689314e-01  4.905134e-01  6.073972e-01   \n",
              "\n",
              "         R²      MAPE (%)  \n",
              "0  0.974472  9.817689e-02  \n",
              "1  1.000000  0.000000e+00  \n",
              "2 -0.102055  4.638813e-01  \n",
              "3  1.000000  0.000000e+00  \n",
              "4  1.000000  6.819956e-08  "
            ]
          },
          "execution_count": 131,
          "metadata": {},
          "output_type": "execute_result"
        }
      ],
      "source": [
        "eval_df = pd.DataFrame(evaluation_results)\n",
        "\n",
        "eval_df"
      ]
    },
    {
      "cell_type": "code",
      "execution_count": 132,
      "metadata": {},
      "outputs": [
        {
          "name": "stdout",
          "output_type": "stream",
          "text": [
            "          Feature  Importance\n",
            "3            Size    0.757909\n",
            "7  Price_per_sqft    0.161970\n",
            "2        Location    0.029655\n",
            "1        Bathroom    0.015981\n",
            "4          Status    0.012343\n",
            "5          Facing    0.011886\n",
            "0         Bedroom    0.010257\n",
            "6            Type    0.000000\n"
          ]
        }
      ],
      "source": [
        "importances = models['Random Forest'].feature_importances_\n",
        "feature_names = X.columns\n",
        "\n",
        "feature_importance_df = pd.DataFrame({\n",
        "    'Feature': feature_names,\n",
        "    'Importance': importances\n",
        "}).sort_values(by='Importance', ascending=False)\n",
        "\n",
        "print(feature_importance_df)"
      ]
    },
    {
      "cell_type": "code",
      "execution_count": 133,
      "metadata": {},
      "outputs": [
        {
          "data": {
            "application/vnd.plotly.v1+json": {
              "config": {
                "plotlyServerURL": "https://plot.ly"
              },
              "data": [
                {
                  "alignmentgroup": "True",
                  "hovertemplate": "Feature=%{x}<br>Importance=%{y}<extra></extra>",
                  "legendgroup": "",
                  "marker": {
                    "color": "#636efa",
                    "pattern": {
                      "shape": ""
                    }
                  },
                  "name": "",
                  "offsetgroup": "",
                  "orientation": "v",
                  "showlegend": false,
                  "textposition": "auto",
                  "type": "bar",
                  "x": [
                    "Size",
                    "Price_per_sqft",
                    "Location",
                    "Bathroom",
                    "Status",
                    "Facing",
                    "Bedroom",
                    "Type"
                  ],
                  "xaxis": "x",
                  "y": [
                    0.7579090897843179,
                    0.16197021349891594,
                    0.02965507796541769,
                    0.01598064094988793,
                    0.012342544851808697,
                    0.01188581342002339,
                    0.010256619529628457,
                    0
                  ],
                  "yaxis": "y"
                }
              ],
              "layout": {
                "barmode": "relative",
                "legend": {
                  "tracegroupgap": 0
                },
                "template": {
                  "data": {
                    "bar": [
                      {
                        "error_x": {
                          "color": "#2a3f5f"
                        },
                        "error_y": {
                          "color": "#2a3f5f"
                        },
                        "marker": {
                          "line": {
                            "color": "#E5ECF6",
                            "width": 0.5
                          },
                          "pattern": {
                            "fillmode": "overlay",
                            "size": 10,
                            "solidity": 0.2
                          }
                        },
                        "type": "bar"
                      }
                    ],
                    "barpolar": [
                      {
                        "marker": {
                          "line": {
                            "color": "#E5ECF6",
                            "width": 0.5
                          },
                          "pattern": {
                            "fillmode": "overlay",
                            "size": 10,
                            "solidity": 0.2
                          }
                        },
                        "type": "barpolar"
                      }
                    ],
                    "carpet": [
                      {
                        "aaxis": {
                          "endlinecolor": "#2a3f5f",
                          "gridcolor": "white",
                          "linecolor": "white",
                          "minorgridcolor": "white",
                          "startlinecolor": "#2a3f5f"
                        },
                        "baxis": {
                          "endlinecolor": "#2a3f5f",
                          "gridcolor": "white",
                          "linecolor": "white",
                          "minorgridcolor": "white",
                          "startlinecolor": "#2a3f5f"
                        },
                        "type": "carpet"
                      }
                    ],
                    "choropleth": [
                      {
                        "colorbar": {
                          "outlinewidth": 0,
                          "ticks": ""
                        },
                        "type": "choropleth"
                      }
                    ],
                    "contour": [
                      {
                        "colorbar": {
                          "outlinewidth": 0,
                          "ticks": ""
                        },
                        "colorscale": [
                          [
                            0,
                            "#0d0887"
                          ],
                          [
                            0.1111111111111111,
                            "#46039f"
                          ],
                          [
                            0.2222222222222222,
                            "#7201a8"
                          ],
                          [
                            0.3333333333333333,
                            "#9c179e"
                          ],
                          [
                            0.4444444444444444,
                            "#bd3786"
                          ],
                          [
                            0.5555555555555556,
                            "#d8576b"
                          ],
                          [
                            0.6666666666666666,
                            "#ed7953"
                          ],
                          [
                            0.7777777777777778,
                            "#fb9f3a"
                          ],
                          [
                            0.8888888888888888,
                            "#fdca26"
                          ],
                          [
                            1,
                            "#f0f921"
                          ]
                        ],
                        "type": "contour"
                      }
                    ],
                    "contourcarpet": [
                      {
                        "colorbar": {
                          "outlinewidth": 0,
                          "ticks": ""
                        },
                        "type": "contourcarpet"
                      }
                    ],
                    "heatmap": [
                      {
                        "colorbar": {
                          "outlinewidth": 0,
                          "ticks": ""
                        },
                        "colorscale": [
                          [
                            0,
                            "#0d0887"
                          ],
                          [
                            0.1111111111111111,
                            "#46039f"
                          ],
                          [
                            0.2222222222222222,
                            "#7201a8"
                          ],
                          [
                            0.3333333333333333,
                            "#9c179e"
                          ],
                          [
                            0.4444444444444444,
                            "#bd3786"
                          ],
                          [
                            0.5555555555555556,
                            "#d8576b"
                          ],
                          [
                            0.6666666666666666,
                            "#ed7953"
                          ],
                          [
                            0.7777777777777778,
                            "#fb9f3a"
                          ],
                          [
                            0.8888888888888888,
                            "#fdca26"
                          ],
                          [
                            1,
                            "#f0f921"
                          ]
                        ],
                        "type": "heatmap"
                      }
                    ],
                    "heatmapgl": [
                      {
                        "colorbar": {
                          "outlinewidth": 0,
                          "ticks": ""
                        },
                        "colorscale": [
                          [
                            0,
                            "#0d0887"
                          ],
                          [
                            0.1111111111111111,
                            "#46039f"
                          ],
                          [
                            0.2222222222222222,
                            "#7201a8"
                          ],
                          [
                            0.3333333333333333,
                            "#9c179e"
                          ],
                          [
                            0.4444444444444444,
                            "#bd3786"
                          ],
                          [
                            0.5555555555555556,
                            "#d8576b"
                          ],
                          [
                            0.6666666666666666,
                            "#ed7953"
                          ],
                          [
                            0.7777777777777778,
                            "#fb9f3a"
                          ],
                          [
                            0.8888888888888888,
                            "#fdca26"
                          ],
                          [
                            1,
                            "#f0f921"
                          ]
                        ],
                        "type": "heatmapgl"
                      }
                    ],
                    "histogram": [
                      {
                        "marker": {
                          "pattern": {
                            "fillmode": "overlay",
                            "size": 10,
                            "solidity": 0.2
                          }
                        },
                        "type": "histogram"
                      }
                    ],
                    "histogram2d": [
                      {
                        "colorbar": {
                          "outlinewidth": 0,
                          "ticks": ""
                        },
                        "colorscale": [
                          [
                            0,
                            "#0d0887"
                          ],
                          [
                            0.1111111111111111,
                            "#46039f"
                          ],
                          [
                            0.2222222222222222,
                            "#7201a8"
                          ],
                          [
                            0.3333333333333333,
                            "#9c179e"
                          ],
                          [
                            0.4444444444444444,
                            "#bd3786"
                          ],
                          [
                            0.5555555555555556,
                            "#d8576b"
                          ],
                          [
                            0.6666666666666666,
                            "#ed7953"
                          ],
                          [
                            0.7777777777777778,
                            "#fb9f3a"
                          ],
                          [
                            0.8888888888888888,
                            "#fdca26"
                          ],
                          [
                            1,
                            "#f0f921"
                          ]
                        ],
                        "type": "histogram2d"
                      }
                    ],
                    "histogram2dcontour": [
                      {
                        "colorbar": {
                          "outlinewidth": 0,
                          "ticks": ""
                        },
                        "colorscale": [
                          [
                            0,
                            "#0d0887"
                          ],
                          [
                            0.1111111111111111,
                            "#46039f"
                          ],
                          [
                            0.2222222222222222,
                            "#7201a8"
                          ],
                          [
                            0.3333333333333333,
                            "#9c179e"
                          ],
                          [
                            0.4444444444444444,
                            "#bd3786"
                          ],
                          [
                            0.5555555555555556,
                            "#d8576b"
                          ],
                          [
                            0.6666666666666666,
                            "#ed7953"
                          ],
                          [
                            0.7777777777777778,
                            "#fb9f3a"
                          ],
                          [
                            0.8888888888888888,
                            "#fdca26"
                          ],
                          [
                            1,
                            "#f0f921"
                          ]
                        ],
                        "type": "histogram2dcontour"
                      }
                    ],
                    "mesh3d": [
                      {
                        "colorbar": {
                          "outlinewidth": 0,
                          "ticks": ""
                        },
                        "type": "mesh3d"
                      }
                    ],
                    "parcoords": [
                      {
                        "line": {
                          "colorbar": {
                            "outlinewidth": 0,
                            "ticks": ""
                          }
                        },
                        "type": "parcoords"
                      }
                    ],
                    "pie": [
                      {
                        "automargin": true,
                        "type": "pie"
                      }
                    ],
                    "scatter": [
                      {
                        "fillpattern": {
                          "fillmode": "overlay",
                          "size": 10,
                          "solidity": 0.2
                        },
                        "type": "scatter"
                      }
                    ],
                    "scatter3d": [
                      {
                        "line": {
                          "colorbar": {
                            "outlinewidth": 0,
                            "ticks": ""
                          }
                        },
                        "marker": {
                          "colorbar": {
                            "outlinewidth": 0,
                            "ticks": ""
                          }
                        },
                        "type": "scatter3d"
                      }
                    ],
                    "scattercarpet": [
                      {
                        "marker": {
                          "colorbar": {
                            "outlinewidth": 0,
                            "ticks": ""
                          }
                        },
                        "type": "scattercarpet"
                      }
                    ],
                    "scattergeo": [
                      {
                        "marker": {
                          "colorbar": {
                            "outlinewidth": 0,
                            "ticks": ""
                          }
                        },
                        "type": "scattergeo"
                      }
                    ],
                    "scattergl": [
                      {
                        "marker": {
                          "colorbar": {
                            "outlinewidth": 0,
                            "ticks": ""
                          }
                        },
                        "type": "scattergl"
                      }
                    ],
                    "scattermapbox": [
                      {
                        "marker": {
                          "colorbar": {
                            "outlinewidth": 0,
                            "ticks": ""
                          }
                        },
                        "type": "scattermapbox"
                      }
                    ],
                    "scatterpolar": [
                      {
                        "marker": {
                          "colorbar": {
                            "outlinewidth": 0,
                            "ticks": ""
                          }
                        },
                        "type": "scatterpolar"
                      }
                    ],
                    "scatterpolargl": [
                      {
                        "marker": {
                          "colorbar": {
                            "outlinewidth": 0,
                            "ticks": ""
                          }
                        },
                        "type": "scatterpolargl"
                      }
                    ],
                    "scatterternary": [
                      {
                        "marker": {
                          "colorbar": {
                            "outlinewidth": 0,
                            "ticks": ""
                          }
                        },
                        "type": "scatterternary"
                      }
                    ],
                    "surface": [
                      {
                        "colorbar": {
                          "outlinewidth": 0,
                          "ticks": ""
                        },
                        "colorscale": [
                          [
                            0,
                            "#0d0887"
                          ],
                          [
                            0.1111111111111111,
                            "#46039f"
                          ],
                          [
                            0.2222222222222222,
                            "#7201a8"
                          ],
                          [
                            0.3333333333333333,
                            "#9c179e"
                          ],
                          [
                            0.4444444444444444,
                            "#bd3786"
                          ],
                          [
                            0.5555555555555556,
                            "#d8576b"
                          ],
                          [
                            0.6666666666666666,
                            "#ed7953"
                          ],
                          [
                            0.7777777777777778,
                            "#fb9f3a"
                          ],
                          [
                            0.8888888888888888,
                            "#fdca26"
                          ],
                          [
                            1,
                            "#f0f921"
                          ]
                        ],
                        "type": "surface"
                      }
                    ],
                    "table": [
                      {
                        "cells": {
                          "fill": {
                            "color": "#EBF0F8"
                          },
                          "line": {
                            "color": "white"
                          }
                        },
                        "header": {
                          "fill": {
                            "color": "#C8D4E3"
                          },
                          "line": {
                            "color": "white"
                          }
                        },
                        "type": "table"
                      }
                    ]
                  },
                  "layout": {
                    "annotationdefaults": {
                      "arrowcolor": "#2a3f5f",
                      "arrowhead": 0,
                      "arrowwidth": 1
                    },
                    "autotypenumbers": "strict",
                    "coloraxis": {
                      "colorbar": {
                        "outlinewidth": 0,
                        "ticks": ""
                      }
                    },
                    "colorscale": {
                      "diverging": [
                        [
                          0,
                          "#8e0152"
                        ],
                        [
                          0.1,
                          "#c51b7d"
                        ],
                        [
                          0.2,
                          "#de77ae"
                        ],
                        [
                          0.3,
                          "#f1b6da"
                        ],
                        [
                          0.4,
                          "#fde0ef"
                        ],
                        [
                          0.5,
                          "#f7f7f7"
                        ],
                        [
                          0.6,
                          "#e6f5d0"
                        ],
                        [
                          0.7,
                          "#b8e186"
                        ],
                        [
                          0.8,
                          "#7fbc41"
                        ],
                        [
                          0.9,
                          "#4d9221"
                        ],
                        [
                          1,
                          "#276419"
                        ]
                      ],
                      "sequential": [
                        [
                          0,
                          "#0d0887"
                        ],
                        [
                          0.1111111111111111,
                          "#46039f"
                        ],
                        [
                          0.2222222222222222,
                          "#7201a8"
                        ],
                        [
                          0.3333333333333333,
                          "#9c179e"
                        ],
                        [
                          0.4444444444444444,
                          "#bd3786"
                        ],
                        [
                          0.5555555555555556,
                          "#d8576b"
                        ],
                        [
                          0.6666666666666666,
                          "#ed7953"
                        ],
                        [
                          0.7777777777777778,
                          "#fb9f3a"
                        ],
                        [
                          0.8888888888888888,
                          "#fdca26"
                        ],
                        [
                          1,
                          "#f0f921"
                        ]
                      ],
                      "sequentialminus": [
                        [
                          0,
                          "#0d0887"
                        ],
                        [
                          0.1111111111111111,
                          "#46039f"
                        ],
                        [
                          0.2222222222222222,
                          "#7201a8"
                        ],
                        [
                          0.3333333333333333,
                          "#9c179e"
                        ],
                        [
                          0.4444444444444444,
                          "#bd3786"
                        ],
                        [
                          0.5555555555555556,
                          "#d8576b"
                        ],
                        [
                          0.6666666666666666,
                          "#ed7953"
                        ],
                        [
                          0.7777777777777778,
                          "#fb9f3a"
                        ],
                        [
                          0.8888888888888888,
                          "#fdca26"
                        ],
                        [
                          1,
                          "#f0f921"
                        ]
                      ]
                    },
                    "colorway": [
                      "#636efa",
                      "#EF553B",
                      "#00cc96",
                      "#ab63fa",
                      "#FFA15A",
                      "#19d3f3",
                      "#FF6692",
                      "#B6E880",
                      "#FF97FF",
                      "#FECB52"
                    ],
                    "font": {
                      "color": "#2a3f5f"
                    },
                    "geo": {
                      "bgcolor": "white",
                      "lakecolor": "white",
                      "landcolor": "#E5ECF6",
                      "showlakes": true,
                      "showland": true,
                      "subunitcolor": "white"
                    },
                    "hoverlabel": {
                      "align": "left"
                    },
                    "hovermode": "closest",
                    "mapbox": {
                      "style": "light"
                    },
                    "paper_bgcolor": "white",
                    "plot_bgcolor": "#E5ECF6",
                    "polar": {
                      "angularaxis": {
                        "gridcolor": "white",
                        "linecolor": "white",
                        "ticks": ""
                      },
                      "bgcolor": "#E5ECF6",
                      "radialaxis": {
                        "gridcolor": "white",
                        "linecolor": "white",
                        "ticks": ""
                      }
                    },
                    "scene": {
                      "xaxis": {
                        "backgroundcolor": "#E5ECF6",
                        "gridcolor": "white",
                        "gridwidth": 2,
                        "linecolor": "white",
                        "showbackground": true,
                        "ticks": "",
                        "zerolinecolor": "white"
                      },
                      "yaxis": {
                        "backgroundcolor": "#E5ECF6",
                        "gridcolor": "white",
                        "gridwidth": 2,
                        "linecolor": "white",
                        "showbackground": true,
                        "ticks": "",
                        "zerolinecolor": "white"
                      },
                      "zaxis": {
                        "backgroundcolor": "#E5ECF6",
                        "gridcolor": "white",
                        "gridwidth": 2,
                        "linecolor": "white",
                        "showbackground": true,
                        "ticks": "",
                        "zerolinecolor": "white"
                      }
                    },
                    "shapedefaults": {
                      "line": {
                        "color": "#2a3f5f"
                      }
                    },
                    "ternary": {
                      "aaxis": {
                        "gridcolor": "white",
                        "linecolor": "white",
                        "ticks": ""
                      },
                      "baxis": {
                        "gridcolor": "white",
                        "linecolor": "white",
                        "ticks": ""
                      },
                      "bgcolor": "#E5ECF6",
                      "caxis": {
                        "gridcolor": "white",
                        "linecolor": "white",
                        "ticks": ""
                      }
                    },
                    "title": {
                      "x": 0.05
                    },
                    "xaxis": {
                      "automargin": true,
                      "gridcolor": "white",
                      "linecolor": "white",
                      "ticks": "",
                      "title": {
                        "standoff": 15
                      },
                      "zerolinecolor": "white",
                      "zerolinewidth": 2
                    },
                    "yaxis": {
                      "automargin": true,
                      "gridcolor": "white",
                      "linecolor": "white",
                      "ticks": "",
                      "title": {
                        "standoff": 15
                      },
                      "zerolinecolor": "white",
                      "zerolinewidth": 2
                    }
                  }
                },
                "title": {
                  "text": "Feature Importance in Random Forest"
                },
                "xaxis": {
                  "anchor": "y",
                  "domain": [
                    0,
                    1
                  ],
                  "title": {
                    "text": "Feature"
                  }
                },
                "yaxis": {
                  "anchor": "x",
                  "domain": [
                    0,
                    1
                  ],
                  "title": {
                    "text": "Importance"
                  }
                }
              }
            }
          },
          "metadata": {},
          "output_type": "display_data"
        }
      ],
      "source": [
        "px.bar(feature_importance_df, x='Feature', y='Importance', title='Feature Importance in Random Forest')"
      ]
    },
    {
      "cell_type": "code",
      "execution_count": null,
      "metadata": {},
      "outputs": [],
      "source": []
    }
  ],
  "metadata": {
    "colab": {
      "provenance": []
    },
    "kernelspec": {
      "display_name": "Python 3",
      "name": "python3"
    },
    "language_info": {
      "codemirror_mode": {
        "name": "ipython",
        "version": 3
      },
      "file_extension": ".py",
      "mimetype": "text/x-python",
      "name": "python",
      "nbconvert_exporter": "python",
      "pygments_lexer": "ipython3",
      "version": "3.11.5"
    },
    "widgets": {
      "application/vnd.jupyter.widget-state+json": {
        "0c218262704048989c49c36affc96e07": {
          "model_module": "@jupyter-widgets/controls",
          "model_module_version": "1.5.0",
          "model_name": "FloatProgressModel",
          "state": {
            "_dom_classes": [],
            "_model_module": "@jupyter-widgets/controls",
            "_model_module_version": "1.5.0",
            "_model_name": "FloatProgressModel",
            "_view_count": null,
            "_view_module": "@jupyter-widgets/controls",
            "_view_module_version": "1.5.0",
            "_view_name": "ProgressView",
            "bar_style": "",
            "description": "",
            "description_tooltip": null,
            "layout": "IPY_MODEL_aa5f5b1e6ee24803ab8040340ce2e57e",
            "max": 4,
            "min": 0,
            "orientation": "horizontal",
            "style": "IPY_MODEL_d0d798e146484ad0baa2927664a58b24",
            "value": 4
          }
        },
        "16cc22bdeb744c03aad74e873f91a0e9": {
          "model_module": "@jupyter-widgets/controls",
          "model_module_version": "1.5.0",
          "model_name": "HTMLModel",
          "state": {
            "_dom_classes": [],
            "_model_module": "@jupyter-widgets/controls",
            "_model_module_version": "1.5.0",
            "_model_name": "HTMLModel",
            "_view_count": null,
            "_view_module": "@jupyter-widgets/controls",
            "_view_module_version": "1.5.0",
            "_view_name": "HTMLView",
            "description": "",
            "description_tooltip": null,
            "layout": "IPY_MODEL_884f41b799e7409891318c3e31aa8b6f",
            "placeholder": "​",
            "style": "IPY_MODEL_5dd8b0e9a69045e4b0a3c4e3de375d10",
            "value": " 81/81 [00:38&lt;00:00,  4.45it/s]"
          }
        },
        "221fa32a88194135b1d1d7d584a5d712": {
          "model_module": "@jupyter-widgets/base",
          "model_module_version": "1.2.0",
          "model_name": "LayoutModel",
          "state": {
            "_model_module": "@jupyter-widgets/base",
            "_model_module_version": "1.2.0",
            "_model_name": "LayoutModel",
            "_view_count": null,
            "_view_module": "@jupyter-widgets/base",
            "_view_module_version": "1.2.0",
            "_view_name": "LayoutView",
            "align_content": null,
            "align_items": null,
            "align_self": null,
            "border": null,
            "bottom": null,
            "display": null,
            "flex": null,
            "flex_flow": null,
            "grid_area": null,
            "grid_auto_columns": null,
            "grid_auto_flow": null,
            "grid_auto_rows": null,
            "grid_column": null,
            "grid_gap": null,
            "grid_row": null,
            "grid_template_areas": null,
            "grid_template_columns": null,
            "grid_template_rows": null,
            "height": null,
            "justify_content": null,
            "justify_items": null,
            "left": null,
            "margin": null,
            "max_height": null,
            "max_width": null,
            "min_height": null,
            "min_width": null,
            "object_fit": null,
            "object_position": null,
            "order": null,
            "overflow": null,
            "overflow_x": null,
            "overflow_y": null,
            "padding": null,
            "right": null,
            "top": null,
            "visibility": "hidden",
            "width": null
          }
        },
        "2fce5b6c8df0440586b2e29c03a34cfd": {
          "model_module": "@jupyter-widgets/controls",
          "model_module_version": "1.5.0",
          "model_name": "HTMLModel",
          "state": {
            "_dom_classes": [],
            "_model_module": "@jupyter-widgets/controls",
            "_model_module_version": "1.5.0",
            "_model_name": "HTMLModel",
            "_view_count": null,
            "_view_module": "@jupyter-widgets/controls",
            "_view_module_version": "1.5.0",
            "_view_name": "HTMLView",
            "description": "",
            "description_tooltip": null,
            "layout": "IPY_MODEL_c3fcf21cb02248c8a2bec398254db9c2",
            "placeholder": "​",
            "style": "IPY_MODEL_922cc6578cbd45f49695341ffd78c9b2",
            "value": "Processing:  75%"
          }
        },
        "3369906a7b604b43b252b757cf7be8a6": {
          "model_module": "@jupyter-widgets/controls",
          "model_module_version": "1.5.0",
          "model_name": "HBoxModel",
          "state": {
            "_dom_classes": [],
            "_model_module": "@jupyter-widgets/controls",
            "_model_module_version": "1.5.0",
            "_model_name": "HBoxModel",
            "_view_count": null,
            "_view_module": "@jupyter-widgets/controls",
            "_view_module_version": "1.5.0",
            "_view_name": "HBoxView",
            "box_style": "",
            "children": [
              "IPY_MODEL_af6ca1c30e344a7fa3bf8379b6fa61a9",
              "IPY_MODEL_5d3fb7cbac5b4459a6f7feac59d51e0d",
              "IPY_MODEL_16cc22bdeb744c03aad74e873f91a0e9"
            ],
            "layout": "IPY_MODEL_221fa32a88194135b1d1d7d584a5d712"
          }
        },
        "5d3fb7cbac5b4459a6f7feac59d51e0d": {
          "model_module": "@jupyter-widgets/controls",
          "model_module_version": "1.5.0",
          "model_name": "FloatProgressModel",
          "state": {
            "_dom_classes": [],
            "_model_module": "@jupyter-widgets/controls",
            "_model_module_version": "1.5.0",
            "_model_name": "FloatProgressModel",
            "_view_count": null,
            "_view_module": "@jupyter-widgets/controls",
            "_view_module_version": "1.5.0",
            "_view_name": "ProgressView",
            "bar_style": "",
            "description": "",
            "description_tooltip": null,
            "layout": "IPY_MODEL_db342564c5854379940acdf3d4c84c29",
            "max": 81,
            "min": 0,
            "orientation": "horizontal",
            "style": "IPY_MODEL_c361ab343af748cdb8295ca2608b4998",
            "value": 81
          }
        },
        "5dd8b0e9a69045e4b0a3c4e3de375d10": {
          "model_module": "@jupyter-widgets/controls",
          "model_module_version": "1.5.0",
          "model_name": "DescriptionStyleModel",
          "state": {
            "_model_module": "@jupyter-widgets/controls",
            "_model_module_version": "1.5.0",
            "_model_name": "DescriptionStyleModel",
            "_view_count": null,
            "_view_module": "@jupyter-widgets/base",
            "_view_module_version": "1.2.0",
            "_view_name": "StyleView",
            "description_width": ""
          }
        },
        "75b0399e58d940f9a97ecb57d51a2882": {
          "model_module": "@jupyter-widgets/base",
          "model_module_version": "1.2.0",
          "model_name": "LayoutModel",
          "state": {
            "_model_module": "@jupyter-widgets/base",
            "_model_module_version": "1.2.0",
            "_model_name": "LayoutModel",
            "_view_count": null,
            "_view_module": "@jupyter-widgets/base",
            "_view_module_version": "1.2.0",
            "_view_name": "LayoutView",
            "align_content": null,
            "align_items": null,
            "align_self": null,
            "border": null,
            "bottom": null,
            "display": null,
            "flex": null,
            "flex_flow": null,
            "grid_area": null,
            "grid_auto_columns": null,
            "grid_auto_flow": null,
            "grid_auto_rows": null,
            "grid_column": null,
            "grid_gap": null,
            "grid_row": null,
            "grid_template_areas": null,
            "grid_template_columns": null,
            "grid_template_rows": null,
            "height": null,
            "justify_content": null,
            "justify_items": null,
            "left": null,
            "margin": null,
            "max_height": null,
            "max_width": null,
            "min_height": null,
            "min_width": null,
            "object_fit": null,
            "object_position": null,
            "order": null,
            "overflow": null,
            "overflow_x": null,
            "overflow_y": null,
            "padding": null,
            "right": null,
            "top": null,
            "visibility": "hidden",
            "width": null
          }
        },
        "7e1907d093e940eebdd4b0be6c22a0a2": {
          "model_module": "@jupyter-widgets/controls",
          "model_module_version": "1.5.0",
          "model_name": "HBoxModel",
          "state": {
            "_dom_classes": [],
            "_model_module": "@jupyter-widgets/controls",
            "_model_module_version": "1.5.0",
            "_model_name": "HBoxModel",
            "_view_count": null,
            "_view_module": "@jupyter-widgets/controls",
            "_view_module_version": "1.5.0",
            "_view_name": "HBoxView",
            "box_style": "",
            "children": [
              "IPY_MODEL_2fce5b6c8df0440586b2e29c03a34cfd",
              "IPY_MODEL_0c218262704048989c49c36affc96e07",
              "IPY_MODEL_d9311658eb2c4aef83d5c2ea6c3c3115"
            ],
            "layout": "IPY_MODEL_75b0399e58d940f9a97ecb57d51a2882"
          }
        },
        "884f41b799e7409891318c3e31aa8b6f": {
          "model_module": "@jupyter-widgets/base",
          "model_module_version": "1.2.0",
          "model_name": "LayoutModel",
          "state": {
            "_model_module": "@jupyter-widgets/base",
            "_model_module_version": "1.2.0",
            "_model_name": "LayoutModel",
            "_view_count": null,
            "_view_module": "@jupyter-widgets/base",
            "_view_module_version": "1.2.0",
            "_view_name": "LayoutView",
            "align_content": null,
            "align_items": null,
            "align_self": null,
            "border": null,
            "bottom": null,
            "display": null,
            "flex": null,
            "flex_flow": null,
            "grid_area": null,
            "grid_auto_columns": null,
            "grid_auto_flow": null,
            "grid_auto_rows": null,
            "grid_column": null,
            "grid_gap": null,
            "grid_row": null,
            "grid_template_areas": null,
            "grid_template_columns": null,
            "grid_template_rows": null,
            "height": null,
            "justify_content": null,
            "justify_items": null,
            "left": null,
            "margin": null,
            "max_height": null,
            "max_width": null,
            "min_height": null,
            "min_width": null,
            "object_fit": null,
            "object_position": null,
            "order": null,
            "overflow": null,
            "overflow_x": null,
            "overflow_y": null,
            "padding": null,
            "right": null,
            "top": null,
            "visibility": null,
            "width": null
          }
        },
        "922cc6578cbd45f49695341ffd78c9b2": {
          "model_module": "@jupyter-widgets/controls",
          "model_module_version": "1.5.0",
          "model_name": "DescriptionStyleModel",
          "state": {
            "_model_module": "@jupyter-widgets/controls",
            "_model_module_version": "1.5.0",
            "_model_name": "DescriptionStyleModel",
            "_view_count": null,
            "_view_module": "@jupyter-widgets/base",
            "_view_module_version": "1.2.0",
            "_view_name": "StyleView",
            "description_width": ""
          }
        },
        "aa5f5b1e6ee24803ab8040340ce2e57e": {
          "model_module": "@jupyter-widgets/base",
          "model_module_version": "1.2.0",
          "model_name": "LayoutModel",
          "state": {
            "_model_module": "@jupyter-widgets/base",
            "_model_module_version": "1.2.0",
            "_model_name": "LayoutModel",
            "_view_count": null,
            "_view_module": "@jupyter-widgets/base",
            "_view_module_version": "1.2.0",
            "_view_name": "LayoutView",
            "align_content": null,
            "align_items": null,
            "align_self": null,
            "border": null,
            "bottom": null,
            "display": null,
            "flex": null,
            "flex_flow": null,
            "grid_area": null,
            "grid_auto_columns": null,
            "grid_auto_flow": null,
            "grid_auto_rows": null,
            "grid_column": null,
            "grid_gap": null,
            "grid_row": null,
            "grid_template_areas": null,
            "grid_template_columns": null,
            "grid_template_rows": null,
            "height": null,
            "justify_content": null,
            "justify_items": null,
            "left": null,
            "margin": null,
            "max_height": null,
            "max_width": null,
            "min_height": null,
            "min_width": null,
            "object_fit": null,
            "object_position": null,
            "order": null,
            "overflow": null,
            "overflow_x": null,
            "overflow_y": null,
            "padding": null,
            "right": null,
            "top": null,
            "visibility": null,
            "width": null
          }
        },
        "af6ca1c30e344a7fa3bf8379b6fa61a9": {
          "model_module": "@jupyter-widgets/controls",
          "model_module_version": "1.5.0",
          "model_name": "HTMLModel",
          "state": {
            "_dom_classes": [],
            "_model_module": "@jupyter-widgets/controls",
            "_model_module_version": "1.5.0",
            "_model_name": "HTMLModel",
            "_view_count": null,
            "_view_module": "@jupyter-widgets/controls",
            "_view_module_version": "1.5.0",
            "_view_name": "HTMLView",
            "description": "",
            "description_tooltip": null,
            "layout": "IPY_MODEL_c70348cba14b47b6870a85b400c664d3",
            "placeholder": "​",
            "style": "IPY_MODEL_b33e379e246046e2b6862a8188063986",
            "value": "Processing: 100%"
          }
        },
        "b33e379e246046e2b6862a8188063986": {
          "model_module": "@jupyter-widgets/controls",
          "model_module_version": "1.5.0",
          "model_name": "DescriptionStyleModel",
          "state": {
            "_model_module": "@jupyter-widgets/controls",
            "_model_module_version": "1.5.0",
            "_model_name": "DescriptionStyleModel",
            "_view_count": null,
            "_view_module": "@jupyter-widgets/base",
            "_view_module_version": "1.2.0",
            "_view_name": "StyleView",
            "description_width": ""
          }
        },
        "c361ab343af748cdb8295ca2608b4998": {
          "model_module": "@jupyter-widgets/controls",
          "model_module_version": "1.5.0",
          "model_name": "ProgressStyleModel",
          "state": {
            "_model_module": "@jupyter-widgets/controls",
            "_model_module_version": "1.5.0",
            "_model_name": "ProgressStyleModel",
            "_view_count": null,
            "_view_module": "@jupyter-widgets/base",
            "_view_module_version": "1.2.0",
            "_view_name": "StyleView",
            "bar_color": null,
            "description_width": ""
          }
        },
        "c3fcf21cb02248c8a2bec398254db9c2": {
          "model_module": "@jupyter-widgets/base",
          "model_module_version": "1.2.0",
          "model_name": "LayoutModel",
          "state": {
            "_model_module": "@jupyter-widgets/base",
            "_model_module_version": "1.2.0",
            "_model_name": "LayoutModel",
            "_view_count": null,
            "_view_module": "@jupyter-widgets/base",
            "_view_module_version": "1.2.0",
            "_view_name": "LayoutView",
            "align_content": null,
            "align_items": null,
            "align_self": null,
            "border": null,
            "bottom": null,
            "display": null,
            "flex": null,
            "flex_flow": null,
            "grid_area": null,
            "grid_auto_columns": null,
            "grid_auto_flow": null,
            "grid_auto_rows": null,
            "grid_column": null,
            "grid_gap": null,
            "grid_row": null,
            "grid_template_areas": null,
            "grid_template_columns": null,
            "grid_template_rows": null,
            "height": null,
            "justify_content": null,
            "justify_items": null,
            "left": null,
            "margin": null,
            "max_height": null,
            "max_width": null,
            "min_height": null,
            "min_width": null,
            "object_fit": null,
            "object_position": null,
            "order": null,
            "overflow": null,
            "overflow_x": null,
            "overflow_y": null,
            "padding": null,
            "right": null,
            "top": null,
            "visibility": null,
            "width": null
          }
        },
        "c70348cba14b47b6870a85b400c664d3": {
          "model_module": "@jupyter-widgets/base",
          "model_module_version": "1.2.0",
          "model_name": "LayoutModel",
          "state": {
            "_model_module": "@jupyter-widgets/base",
            "_model_module_version": "1.2.0",
            "_model_name": "LayoutModel",
            "_view_count": null,
            "_view_module": "@jupyter-widgets/base",
            "_view_module_version": "1.2.0",
            "_view_name": "LayoutView",
            "align_content": null,
            "align_items": null,
            "align_self": null,
            "border": null,
            "bottom": null,
            "display": null,
            "flex": null,
            "flex_flow": null,
            "grid_area": null,
            "grid_auto_columns": null,
            "grid_auto_flow": null,
            "grid_auto_rows": null,
            "grid_column": null,
            "grid_gap": null,
            "grid_row": null,
            "grid_template_areas": null,
            "grid_template_columns": null,
            "grid_template_rows": null,
            "height": null,
            "justify_content": null,
            "justify_items": null,
            "left": null,
            "margin": null,
            "max_height": null,
            "max_width": null,
            "min_height": null,
            "min_width": null,
            "object_fit": null,
            "object_position": null,
            "order": null,
            "overflow": null,
            "overflow_x": null,
            "overflow_y": null,
            "padding": null,
            "right": null,
            "top": null,
            "visibility": null,
            "width": null
          }
        },
        "d0d798e146484ad0baa2927664a58b24": {
          "model_module": "@jupyter-widgets/controls",
          "model_module_version": "1.5.0",
          "model_name": "ProgressStyleModel",
          "state": {
            "_model_module": "@jupyter-widgets/controls",
            "_model_module_version": "1.5.0",
            "_model_name": "ProgressStyleModel",
            "_view_count": null,
            "_view_module": "@jupyter-widgets/base",
            "_view_module_version": "1.2.0",
            "_view_name": "StyleView",
            "bar_color": null,
            "description_width": ""
          }
        },
        "d9311658eb2c4aef83d5c2ea6c3c3115": {
          "model_module": "@jupyter-widgets/controls",
          "model_module_version": "1.5.0",
          "model_name": "HTMLModel",
          "state": {
            "_dom_classes": [],
            "_model_module": "@jupyter-widgets/controls",
            "_model_module_version": "1.5.0",
            "_model_name": "HTMLModel",
            "_view_count": null,
            "_view_module": "@jupyter-widgets/controls",
            "_view_module_version": "1.5.0",
            "_view_name": "HTMLView",
            "description": "",
            "description_tooltip": null,
            "layout": "IPY_MODEL_f70eeeb1dfc84bba89a6b4ede5213cda",
            "placeholder": "​",
            "style": "IPY_MODEL_e69d064dc8cc424dbe468205a4e97b26",
            "value": " 3/4 [00:01&lt;00:00,  2.79it/s]"
          }
        },
        "db342564c5854379940acdf3d4c84c29": {
          "model_module": "@jupyter-widgets/base",
          "model_module_version": "1.2.0",
          "model_name": "LayoutModel",
          "state": {
            "_model_module": "@jupyter-widgets/base",
            "_model_module_version": "1.2.0",
            "_model_name": "LayoutModel",
            "_view_count": null,
            "_view_module": "@jupyter-widgets/base",
            "_view_module_version": "1.2.0",
            "_view_name": "LayoutView",
            "align_content": null,
            "align_items": null,
            "align_self": null,
            "border": null,
            "bottom": null,
            "display": null,
            "flex": null,
            "flex_flow": null,
            "grid_area": null,
            "grid_auto_columns": null,
            "grid_auto_flow": null,
            "grid_auto_rows": null,
            "grid_column": null,
            "grid_gap": null,
            "grid_row": null,
            "grid_template_areas": null,
            "grid_template_columns": null,
            "grid_template_rows": null,
            "height": null,
            "justify_content": null,
            "justify_items": null,
            "left": null,
            "margin": null,
            "max_height": null,
            "max_width": null,
            "min_height": null,
            "min_width": null,
            "object_fit": null,
            "object_position": null,
            "order": null,
            "overflow": null,
            "overflow_x": null,
            "overflow_y": null,
            "padding": null,
            "right": null,
            "top": null,
            "visibility": null,
            "width": null
          }
        },
        "e69d064dc8cc424dbe468205a4e97b26": {
          "model_module": "@jupyter-widgets/controls",
          "model_module_version": "1.5.0",
          "model_name": "DescriptionStyleModel",
          "state": {
            "_model_module": "@jupyter-widgets/controls",
            "_model_module_version": "1.5.0",
            "_model_name": "DescriptionStyleModel",
            "_view_count": null,
            "_view_module": "@jupyter-widgets/base",
            "_view_module_version": "1.2.0",
            "_view_name": "StyleView",
            "description_width": ""
          }
        },
        "f70eeeb1dfc84bba89a6b4ede5213cda": {
          "model_module": "@jupyter-widgets/base",
          "model_module_version": "1.2.0",
          "model_name": "LayoutModel",
          "state": {
            "_model_module": "@jupyter-widgets/base",
            "_model_module_version": "1.2.0",
            "_model_name": "LayoutModel",
            "_view_count": null,
            "_view_module": "@jupyter-widgets/base",
            "_view_module_version": "1.2.0",
            "_view_name": "LayoutView",
            "align_content": null,
            "align_items": null,
            "align_self": null,
            "border": null,
            "bottom": null,
            "display": null,
            "flex": null,
            "flex_flow": null,
            "grid_area": null,
            "grid_auto_columns": null,
            "grid_auto_flow": null,
            "grid_auto_rows": null,
            "grid_column": null,
            "grid_gap": null,
            "grid_row": null,
            "grid_template_areas": null,
            "grid_template_columns": null,
            "grid_template_rows": null,
            "height": null,
            "justify_content": null,
            "justify_items": null,
            "left": null,
            "margin": null,
            "max_height": null,
            "max_width": null,
            "min_height": null,
            "min_width": null,
            "object_fit": null,
            "object_position": null,
            "order": null,
            "overflow": null,
            "overflow_x": null,
            "overflow_y": null,
            "padding": null,
            "right": null,
            "top": null,
            "visibility": null,
            "width": null
          }
        }
      }
    }
  },
  "nbformat": 4,
  "nbformat_minor": 0
}
